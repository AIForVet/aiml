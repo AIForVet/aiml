{
  "cells": [
    {
      "cell_type": "markdown",
      "metadata": {
        "id": "LxqF2RMxrw1U"
      },
      "source": [
        "# Gradient Descent"
      ]
    },
    {
      "cell_type": "markdown",
      "metadata": {
        "id": "HItLemWnJYCK"
      },
      "source": [
        "[![Open In Colab](https://colab.research.google.com/assets/colab-badge.svg)](https://colab.research.google.com/github/AIForVet/aiml/blob/main/05-2-gradient_descent.ipynb)"
      ]
    },
    {
      "cell_type": "markdown",
      "metadata": {
        "id": "MvzaU-QooLRS"
      },
      "source": [
        "This notebook follows the content of the lesson on gradient descent. In it, you can run a gradient descent simulation and try out what happens with different learning rate settings. You can experiment with the values of other settings and get a better understanding of how this algorithm works."
      ]
    },
    {
      "cell_type": "markdown",
      "metadata": {
        "id": "r_6r4ghxobNT"
      },
      "source": [
        "First, load the libraries that will be needed for further work."
      ]
    },
    {
      "cell_type": "code",
      "execution_count": 1,
      "metadata": {
        "id": "p0rMvvqQX5CN"
      },
      "outputs": [],
      "source": [
        "import numpy as np\n",
        "from matplotlib import pyplot as plt"
      ]
    },
    {
      "cell_type": "markdown",
      "metadata": {
        "id": "euHwUjUQ1hio"
      },
      "source": [
        "## Intuition of Gradient Descent"
      ]
    },
    {
      "cell_type": "markdown",
      "metadata": {
        "id": "OIVJK8u0offX"
      },
      "source": [
        "In the next two cells, the function $f(x)=(x-1)^2$ and its derivative $f'(x)=2x-2$ are defined. Execute them to be able to use the functions further."
      ]
    },
    {
      "cell_type": "code",
      "execution_count": 2,
      "metadata": {
        "id": "Hv7cAGSBX44G"
      },
      "outputs": [],
      "source": [
        "def f(x):\n",
        "  return (x-1)**2"
      ]
    },
    {
      "cell_type": "code",
      "execution_count": 3,
      "metadata": {
        "colab": {
          "base_uri": "https://localhost:8080/"
        },
        "id": "JfiD3GxUX4XN",
        "outputId": "fac6fa37-f78e-4541-fb02-b94e22d56708"
      },
      "outputs": [
        {
          "data": {
            "text/plain": [
              "4"
            ]
          },
          "execution_count": 3,
          "metadata": {},
          "output_type": "execute_result"
        }
      ],
      "source": [
        "f(3)"
      ]
    },
    {
      "cell_type": "code",
      "execution_count": 4,
      "metadata": {
        "id": "PwKQholqX4k1"
      },
      "outputs": [],
      "source": [
        "def f_izvod(x):\n",
        "  return 2*x-2"
      ]
    },
    {
      "cell_type": "code",
      "execution_count": 5,
      "metadata": {
        "colab": {
          "base_uri": "https://localhost:8080/"
        },
        "id": "qs2E6MD6YI7y",
        "outputId": "630058ab-68bd-4410-9c09-aa78c97c25f1"
      },
      "outputs": [
        {
          "data": {
            "text/plain": [
              "0"
            ]
          },
          "execution_count": 5,
          "metadata": {},
          "output_type": "execute_result"
        }
      ],
      "source": [
        "f(1)"
      ]
    },
    {
      "cell_type": "markdown",
      "metadata": {
        "id": "mgmBJ1rGsStc"
      },
      "source": [
        "The following section allows you to track what happens in individual steps of the gradient descent."
      ]
    },
    {
      "cell_type": "markdown",
      "metadata": {
        "id": "QhyjT5-UuOp6"
      },
      "source": [
        "In this cell, you can set the initial value of the point `x0` and the learning rate `alfa`. Each time you change something, execute the cells below as well."
      ]
    },
    {
      "cell_type": "code",
      "execution_count": 6,
      "metadata": {
        "id": "w6_5BJE9Y-p3"
      },
      "outputs": [],
      "source": [
        "x0 = 3\n",
        "alfa = 0.25"
      ]
    },
    {
      "cell_type": "markdown",
      "metadata": {
        "id": "IhsALX53usj2"
      },
      "source": [
        "The array `points` will contain the values obtained by individual descent steps. We will be able to display them using the function `show_graph`."
      ]
    },
    {
      "cell_type": "code",
      "execution_count": 7,
      "metadata": {
        "id": "kBz3wxtWun-a"
      },
      "outputs": [],
      "source": [
        "points = [x0]"
      ]
    },
    {
      "cell_type": "code",
      "execution_count": 8,
      "metadata": {
        "id": "byvRXxgCpmfH"
      },
      "outputs": [],
      "source": [
        "def show_graph(f, iteration=0, show_transition=False):\n",
        "  x = np.linspace(-4, 6, 100, endpoint=True)\n",
        "  y = f(x)\n",
        "\n",
        "  plt.xticks(np.arange(-4, 6), np.arange(-4, 6))\n",
        "  plt.plot(x, y)\n",
        "\n",
        "  for t in points:\n",
        "    plt.scatter(t, f(t), color='red')\n",
        "\n",
        "  if show_transition == True:\n",
        "    num_points = len(points)\n",
        "    for i in range(0, num_points-1):\n",
        "      plt.plot([points[i], points[i+1]], [f(points[i]), f(points[i+1])], linestyle='--', color='gray')\n",
        "\n",
        "  plt.title('Iteration number: {iteration}: '.format(iteration=iteration))\n",
        "  plt.show()\n"
      ]
    },
    {
      "cell_type": "markdown",
      "metadata": {
        "id": "_GJGOCQAvrqw"
      },
      "source": [
        "The function `one_step_descent` calculates the value for `x` to which we will move in one step of gradient descent. Execute the cell to be able to use it."
      ]
    },
    {
      "cell_type": "code",
      "execution_count": 9,
      "metadata": {
        "id": "9KCFw-ilr83V"
      },
      "outputs": [],
      "source": [
        "def one_step_descent(f, f_derivative, x, alpha):\n",
        "  x_new = x - alpha * f_derivative(x)\n",
        "\n",
        "  return x_new"
      ]
    },
    {
      "cell_type": "markdown",
      "metadata": {
        "id": "rLS_hjQvv9Lh"
      },
      "source": [
        "By consecutively executing the cell below, you can track the descent towards the minimum of the function."
      ]
    },
    {
      "cell_type": "code",
      "execution_count": 10,
      "metadata": {
        "id": "lVOhYGhVv8qI"
      },
      "outputs": [],
      "source": [
        "iteration = 1"
      ]
    },
    {
      "cell_type": "code",
      "execution_count": 11,
      "metadata": {
        "colab": {
          "base_uri": "https://localhost:8080/",
          "height": 452
        },
        "id": "663o0Hxarfo6",
        "outputId": "27b38327-5462-4142-af3b-25148ccade3f"
      },
      "outputs": [
        {
          "data": {
            "image/png": "[encoded data removed]",
            "text/plain": [
              "<Figure size 640x480 with 1 Axes>"
            ]
          },
          "metadata": {},
          "output_type": "display_data"
        }
      ],
      "source": [
        "# calculate the new point\n",
        "x = one_step_descent(f, f_izvod, x0, alfa)\n",
        "\n",
        "# add the point to the list of points\n",
        "points.append(x)\n",
        "\n",
        "# display the graph\n",
        "show_graph(f, iteration, show_transition=False)\n",
        "\n",
        "# increment the iteration number\n",
        "iteration = iteration + 1\n",
        "\n",
        "# set the position for the next descent\n",
        "x0 = x\n"
      ]
    },
    {
      "cell_type": "code",
      "execution_count": null,
      "metadata": {
        "id": "zup4tJoQzOz3"
      },
      "outputs": [],
      "source": [
        "\n"
      ]
    },
    {
      "cell_type": "markdown",
      "metadata": {
        "id": "oQVK-M7c2Amp"
      },
      "source": [
        "You can now go back to the beginning and try the following values:\n",
        "*   `x0=3` and `alfa=0.05` - this will be a test of patience due to the slow descent!\n",
        "*   `x0=3` and `alfa=1.05` - this will be a surprise because there is actually no descent!\n",
        "*   `x0=5` and `alfa=0.9` - this will show you what a zigzag trap means!\n",
        "\n",
        "In these experiments, be sure to set the `show_transition` argument to `True` in the `show_graph` function so you can track the point's path."
      ]
    },
    {
      "cell_type": "code",
      "execution_count": null,
      "metadata": {
        "id": "eYw5PMBUzONN"
      },
      "outputs": [],
      "source": []
    },
    {
      "cell_type": "markdown",
      "metadata": {
        "id": "KvG1rY63uFaD"
      },
      "source": [
        "## Gradient Descent Algorithm"
      ]
    },
    {
      "cell_type": "markdown",
      "metadata": {
        "id": "meiNIaIMxO6_"
      },
      "source": [
        "This cell contains all the settings for the gradient descent function."
      ]
    },
    {
      "cell_type": "code",
      "execution_count": 12,
      "metadata": {
        "id": "3NZNhn9nuDpH"
      },
      "outputs": [],
      "source": [
        "x0 = 3\n",
        "alpha = 0.1\n",
        "epsilon = 0.001\n",
        "max_iterations = 100"
      ]
    },
    {
      "cell_type": "markdown",
      "metadata": {
        "id": "fT8usxh4uEBz"
      },
      "source": [
        "This cell contains the implementation of the gradient descent function. When you execute it, you will be able to immediately see for which x the value of the function is the smallest. Be sure to examine how the result changes for different settings of this algorithm. For example, for some combinations of learning steps and starting points, the descent will be very slow."
      ]
    },
    {
      "cell_type": "code",
      "execution_count": 13,
      "metadata": {
        "id": "QawYBIwNtTjT"
      },
      "outputs": [],
      "source": [
        "def gradient_descent(f, f_derivative, x, alpha, epsilon, max_iterations):\n",
        "\n",
        "    # set the initial value for x\n",
        "    x_old = x\n",
        "\n",
        "    # in each iteration ...\n",
        "    for i in range(0, max_iterations):\n",
        "\n",
        "        # calculate the current value for x\n",
        "        x_new = x_old - alpha * f_derivative(x_old)\n",
        "\n",
        "        # and then check if the stopping criterion is met\n",
        "        if np.abs(f(x_new) - f(x_old)) < epsilon:\n",
        "            break\n",
        "\n",
        "        # if the criterion is not met, prepare x for the next iteration\n",
        "        x_old = x_new\n",
        "\n",
        "    # at the end of the whole process, prepare a report with information:\n",
        "    # whether the algorithm stops,\n",
        "    # how many iterations it lasted,\n",
        "    # and what value of x was found\n",
        "    report = {}\n",
        "    report['stops'] = i != max_iterations\n",
        "    report['num_iterations'] = i\n",
        "    report['x_min'] = x_old\n",
        "\n",
        "    return report\n"
      ]
    },
    {
      "cell_type": "markdown",
      "metadata": {
        "id": "_aaQm5LFyA8c"
      },
      "source": [
        "The function report tells us whether the algorithm has stopped (i.e., whether the desired calculation accuracy has been achieved), how many iterations it took, and the point at which the function value is the smallest. Execute the following cells to generate the report."
      ]
    },
    {
      "cell_type": "code",
      "execution_count": 14,
      "metadata": {
        "id": "3Xks6mJVt-X5"
      },
      "outputs": [],
      "source": [
        "report = gradient_descent(f, f_izvod, x0, alfa, epsilon, max_iterations)"
      ]
    },
    {
      "cell_type": "code",
      "execution_count": 15,
      "metadata": {
        "colab": {
          "base_uri": "https://localhost:8080/"
        },
        "id": "KyD6K4TTuAft",
        "outputId": "6ff591ae-7c78-416f-fedd-135d931e8e1d"
      },
      "outputs": [
        {
          "data": {
            "text/plain": [
              "{'stops': True, 'num_iterations': 6, 'x_min': 1.03125}"
            ]
          },
          "execution_count": 15,
          "metadata": {},
          "output_type": "execute_result"
        }
      ],
      "source": [
        "report"
      ]
    },
    {
      "cell_type": "code",
      "execution_count": null,
      "metadata": {
        "id": "kIaG57iZxD4-"
      },
      "outputs": [],
      "source": []
    },
    {
      "cell_type": "markdown",
      "metadata": {
        "id": "uBL5Hboo8iFH"
      },
      "source": [
        "## Search for parameters $\\beta_0$ and $\\beta_1$"
      ]
    },
    {
      "cell_type": "markdown",
      "metadata": {
        "id": "TGFAsaFj-wX5"
      },
      "source": [
        "As we have learned, for a given set of points $(x, y)$, the mean squared error is calculated as the sum of the squares of the differences between the expected values and the model predictions using the formula $\\frac{1}{N}\\sum_{i=1}^N (y_i - (\\beta_0 + \\beta_1x_i))^2$ or $\\frac{1}{N} \\sum_{i=1}^N (y_i -\\beta_0 - \\beta_1x_i)^2$. Our goal is to determine the values of the parameters $\\beta_0$ and $\\beta_1$ for which the value of this function is the smallest. It is clear that the function $\\frac{1}{2N} \\sum_{i=1}^N (y_i -\\beta_0 - \\beta_1x_i)^2$ will have the smallest value for these parameters, so its form is much more commonly used due to the finer shapes of the gradient. Therefore, we will use it in the continuation."
      ]
    },
    {
      "cell_type": "markdown",
      "metadata": {
        "id": "VzYPDeIN5kY7"
      },
      "source": [
        "Following this formula, the function `mean_squared_error` for given arguments $\\beta_0$, $\\beta_1$, $x$, and $y$ calculates the value of the mean squared error. This is also the function for which we want to find the minimum using the gradient descent technique."
      ]
    },
    {
      "cell_type": "code",
      "execution_count": 16,
      "metadata": {
        "id": "Qn7fps1n-BmM"
      },
      "outputs": [],
      "source": [
        "def mean_squared_error(beta0, beta1, x, y):\n",
        "    return 0.5 * np.average((y - beta0 - beta1 * x) ** 2)"
      ]
    },
    {
      "cell_type": "markdown",
      "metadata": {
        "id": "BFqgLYw4-dNU"
      },
      "source": [
        "The error minimization should be performed with respect to the parameters $\\beta_0$ and $\\beta_1$. Therefore, we will also need the gradients of this function with respect to $\\beta_0$ and $\\beta_1$. It can be verified that this is the vector $[-\\frac{1}{N} \\sum_{i=1}^{N}(y_i - \\beta_0-\\beta_1x_i), -\\frac{1}{N} \\sum_{i=1}^{N}(y_i - \\beta_0 -\\beta_1x_i)\\cdot x_i]$. If we pass through the sum with a minus for simpler calculation, we get the vector $[\\frac{1}{N} \\sum_{i=1}^{N}(\\beta_0 + \\beta_1x_i - y_i), \\frac{1}{N} \\sum_{i=1}^{N}(\\beta_0 + \\beta_1x_i - y_i)\\cdot x_i]$."
      ]
    },
    {
      "cell_type": "markdown",
      "metadata": {
        "id": "REFPWDteATVj"
      },
      "source": [
        "Now we will get to work on adapting the gradient descent function for the linear regression task. We need to keep in mind that we have two variables `beta0` and `beta1` and that the function whose minimum we are looking for is the mean squared error."
      ]
    },
    {
      "cell_type": "code",
      "execution_count": 17,
      "metadata": {
        "id": "86t5ngra9XRC"
      },
      "outputs": [],
      "source": [
        "def gradient_descent_linear_regression(x, y, mean_squared_error, beta0, beta1, alpha, epsilon, max_iterations, plot=False):\n",
        "\n",
        "    # set the initial value for beta0 and beta1\n",
        "    beta0_old = beta0\n",
        "    beta1_old = beta1\n",
        "\n",
        "    # calculate the initial value of the error function\n",
        "    error_old = mean_squared_error(beta0_old, beta1_old, x, y)\n",
        "\n",
        "    # to be able to track how the value of the error function changes\n",
        "    # we will store all calculated values in the errors array\n",
        "    errors = [error_old]\n",
        "\n",
        "    # in each iteration ...\n",
        "    for i in np.arange(0, max_iterations):\n",
        "\n",
        "        # calculate the current value for beta0 and beta1 by:\n",
        "\n",
        "        # first calculate the gradient directions\n",
        "        beta0_correction = np.average(beta0_old + beta1_old * x - y)\n",
        "        beta1_correction = np.average((beta0_old + beta1_old * x - y) * x)\n",
        "\n",
        "        # and then update the values for beta0 and beta1\n",
        "        beta0_new = beta0_old - alpha * beta0_correction\n",
        "        beta1_new = beta1_old - alpha * beta1_correction\n",
        "\n",
        "        # for these calculated values, calculate the value\n",
        "        # of the mean squared error\n",
        "        error_new = mean_squared_error(beta0_new, beta1_new, x, y)\n",
        "\n",
        "        # and then check if the stopping criterion is met\n",
        "        if np.abs(error_new - error_old) < epsilon:\n",
        "            break\n",
        "\n",
        "        # alternatively, the stopping criterion can be that\n",
        "        # the value of the gradient is less than some predefined value\n",
        "        # if np.linalg.norm(np.array([beta0_correction, beta1_correction])) < epsilon:\n",
        "        #   break\n",
        "\n",
        "        # if the criterion is not met, prepare beta0 and beta1 for the next iteration\n",
        "        beta0_old = beta0_new\n",
        "        beta1_old = beta1_new\n",
        "\n",
        "        # prepare the value of the error function\n",
        "        error_old = error_new\n",
        "\n",
        "        # and add it to the array with all errors\n",
        "        errors.append(error_new)\n",
        "\n",
        "    # at the end of the whole process, prepare a report with information:\n",
        "    # whether the algorithm stops,\n",
        "    # how many iterations it lasted,\n",
        "    # and what value of beta0 and beta1 was found\n",
        "\n",
        "    report = {}\n",
        "\n",
        "    report['stops'] = i != max_iterations - 1\n",
        "    report['num_iterations'] = i\n",
        "    report['b_min'] = (beta0_old, beta1_old)\n",
        "\n",
        "    # if the plot argument is set\n",
        "    # we will also plot the error function during the parameter search\n",
        "    if plot == True:\n",
        "        plt.title('Error Function')\n",
        "        plt.xlabel('Number of iterations')\n",
        "        plt.ylabel('Mean Squared Error')\n",
        "        plt.plot(np.arange(0, len(errors)), np.log(errors))\n",
        "\n",
        "    return report\n"
      ]
    },
    {
      "cell_type": "markdown",
      "metadata": {
        "id": "Q7H1aD9dQ4Ot"
      },
      "source": [
        "We will now set the values for `x` and `y` to correspond to the values of property areas and their prices from the previous example."
      ]
    },
    {
      "cell_type": "code",
      "execution_count": 18,
      "metadata": {
        "id": "MshTpzECDeaO"
      },
      "outputs": [],
      "source": [
        "x = np.array([43, 25, 66, 80, 105, 70, 40, 85, 84, 102])\n",
        "y = np.array([60, 32.1, 88.4, 111.4, 120.32, 72.1, 46.3, 90.1, 99.6, 139.2])"
      ]
    },
    {
      "cell_type": "markdown",
      "metadata": {
        "id": "bZxyCGDsRGlj"
      },
      "source": [
        "We will also select some initial values for the parameters that figure in the algorithm. Now this task is much harder because we do not have a clear idea of where to position ourselves or which parameter values to choose."
      ]
    },
    {
      "cell_type": "code",
      "execution_count": 19,
      "metadata": {
        "id": "V-SGnbeO9oua"
      },
      "outputs": [],
      "source": [
        "beta0 = 2.5\n",
        "beta1 = 1.5\n",
        "alpha = 0.00001\n",
        "epsilon = 0.000001\n",
        "max_iterations = 200"
      ]
    },
    {
      "cell_type": "markdown",
      "metadata": {
        "id": "O6GPT8oORilO"
      },
      "source": [
        "Then we will start the search by calling the function we prepared."
      ]
    },
    {
      "cell_type": "code",
      "execution_count": 20,
      "metadata": {
        "colab": {
          "base_uri": "https://localhost:8080/"
        },
        "id": "QjebyTZqDuVo",
        "outputId": "7332a729-4f55-471e-94b0-b036a7e9b1b5"
      },
      "outputs": [
        {
          "data": {
            "text/plain": [
              "{'stops': np.True_,\n",
              " 'num_iterations': np.int64(151),\n",
              " 'b_min': (np.float64(2.4960466912761294), np.float64(1.1930132064518595))}"
            ]
          },
          "execution_count": 20,
          "metadata": {},
          "output_type": "execute_result"
        }
      ],
      "source": [
        "gradient_descent_linear_regression(x, y, mean_squared_error, beta0, beta1, alpha, epsilon, max_iterations, plot=False)"
      ]
    },
    {
      "cell_type": "markdown",
      "metadata": {
        "id": "e4d3e4_I5SLa"
      },
      "source": [
        "Be sure to try what happens when you change some values. Again, you can expect a slow descent, a zigzag trap, or a process that does not lead you to a solution."
      ]
    },
    {
      "cell_type": "markdown",
      "metadata": {
        "id": "0Sjrws9F5pSz"
      },
      "source": [
        "In practice, variants of gradient descent with a variable learning rate are more commonly used. These variants follow the logic that when we are confident we are moving in the right direction, we can take larger steps, while when we are less confident, we can take smaller steps and be more cautious. It is also common practice to use data standardization techniques in these algorithms to make the entire process numerically more stable."
      ]
    },
    {
      "cell_type": "markdown",
      "metadata": {
        "id": "s8W2kk7ZPUNZ"
      },
      "source": [
        "One such better solution that these algorithms would find for us is $\\beta_0$=2.056 and $\\beta_1$=1.198."
      ]
    },
    {
      "cell_type": "code",
      "execution_count": null,
      "metadata": {
        "id": "F1jGn2BPI9Aq"
      },
      "outputs": [],
      "source": []
    }
  ],
  "metadata": {
    "colab": {
      "collapsed_sections": [
        "euHwUjUQ1hio"
      ],
      "provenance": []
    },
    "kernelspec": {
      "display_name": "Python 3",
      "name": "python3"
    },
    "language_info": {
      "codemirror_mode": {
        "name": "ipython",
        "version": 3
      },
      "file_extension": ".py",
      "mimetype": "text/x-python",
      "name": "python",
      "nbconvert_exporter": "python",
      "pygments_lexer": "ipython3",
      "version": "3.11.9"
    }
  },
  "nbformat": 4,
  "nbformat_minor": 0
}
