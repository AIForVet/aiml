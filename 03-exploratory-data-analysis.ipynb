{
  "cells": [
    {
      "cell_type": "markdown",
      "metadata": {
        "id": "NIVAvpI0_PXp"
      },
      "source": [
        "# Exploratory Data Analysis"
      ]
    },
    {
      "cell_type": "markdown",
      "metadata": {
        "id": "rFmqQPj3NzUW"
      },
      "source": [
        "[![Open In Colab](https://colab.research.google.com/assets/colab-badge.svg)](https://colab.research.google.com/github/AIForVet/aiml/blob/main/03-exploratory-data-analysis.ipynb)"
      ]
    },
    {
      "cell_type": "markdown",
      "metadata": {
        "id": "i3r2u7W3bbzb"
      },
      "source": [
        "This notebook is a supplement to the lesson on exploratory data analysis. It will demonstrate some functionalities of the Pandas library that can be used in analysis tasks."
      ]
    },
    {
      "cell_type": "markdown",
      "metadata": {
        "id": "zfrXYRYE_YDl"
      },
      "source": [
        "The Pandas library is a Python programming language library used for working with tabular data. It is characterized by a large number of functions that can facilitate and speed up work and provide useful information about the dataset. To be able to use the Pandas library, we first need to load it with the command `import pandas as pd`."
      ]
    },
    {
      "cell_type": "code",
      "execution_count": 130,
      "metadata": {
        "id": "kvi0GlIAb2o7"
      },
      "outputs": [],
      "source": [
        "# %pip install pandas\n",
        "import pandas as pd"
      ]
    },
    {
      "cell_type": "markdown",
      "metadata": {
        "id": "le83fSkQAaPn"
      },
      "source": [
        "We will also load the remaining libraries that we will need for our work."
      ]
    },
    {
      "cell_type": "code",
      "execution_count": 131,
      "metadata": {
        "id": "MxEDPDoobWcJ"
      },
      "outputs": [],
      "source": [
        "import numpy as np\n",
        "from matplotlib import pyplot as plt"
      ]
    },
    {
      "cell_type": "markdown",
      "metadata": {
        "id": "6x3eJgtMeE-Q"
      },
      "source": [
        "## Series and DataFrame Structures"
      ]
    },
    {
      "cell_type": "markdown",
      "metadata": {
        "id": "t1xGVpx2AngI"
      },
      "source": [
        "The basic data structures used by the Pandas library are `Series` and `DataFrame`. We can think of the DataFrame structure as a tabular structure with features associated with rows and columns, while the `Series` structure can be imagined as a single column of this table, with features associated with rows."
      ]
    },
    {
      "cell_type": "markdown",
      "metadata": {
        "id": "KZ96Hd32cD0k"
      },
      "source": [
        "The `Series` structure is created using the function of the same name. The following structure `points_color` contains information about the colors of the points."
      ]
    },
    {
      "cell_type": "code",
      "execution_count": 132,
      "metadata": {
        "id": "mxp1GonLceGY"
      },
      "outputs": [],
      "source": [
        "points_color = pd.Series(['red', 'blue', 'red', 'green'])"
      ]
    },
    {
      "cell_type": "code",
      "execution_count": 133,
      "metadata": {
        "colab": {
          "base_uri": "https://localhost:8080/"
        },
        "id": "RLF61yqXdRNQ",
        "outputId": "bed91975-2029-4065-a531-fbd14adb4d3a"
      },
      "outputs": [
        {
          "data": {
            "text/plain": [
              "0      red\n",
              "1     blue\n",
              "2      red\n",
              "3    green\n",
              "dtype: object"
            ]
          },
          "execution_count": 133,
          "metadata": {},
          "output_type": "execute_result"
        }
      ],
      "source": [
        "points_color"
      ]
    },
    {
      "cell_type": "markdown",
      "metadata": {
        "id": "AHCTU81TdT_8"
      },
      "source": [
        "As we can see, each entry is determined by its row index."
      ]
    },
    {
      "cell_type": "markdown",
      "metadata": {
        "id": "vZb8VRnpddCR"
      },
      "source": [
        "The `DataFrame` structure is also created using the function of the same name. The following code block creates a table `tacke` with points in the plane that contains the names of the points and their coordinates."
      ]
    },
    {
      "cell_type": "code",
      "execution_count": 134,
      "metadata": {
        "id": "Xyn0Yb11dTm8"
      },
      "outputs": [],
      "source": [
        "points = pd.DataFrame({\n",
        "    'point_name': ['A', 'B', 'C', 'D'],\n",
        "    'x': [20, 11, 3, 27],\n",
        "    'y': [18, -4, 10, 2]\n",
        "})"
      ]
    },
    {
      "cell_type": "code",
      "execution_count": 135,
      "metadata": {
        "colab": {
          "base_uri": "https://localhost:8080/",
          "height": 175
        },
        "id": "kyNkZEavd_Q5",
        "outputId": "c201b2c2-e005-4d76-e867-bb19ea35e9de"
      },
      "outputs": [
        {
          "data": {
            "text/html": [
              "<div>\n",
              "<style scoped>\n",
              "    .dataframe tbody tr th:only-of-type {\n",
              "        vertical-align: middle;\n",
              "    }\n",
              "\n",
              "    .dataframe tbody tr th {\n",
              "        vertical-align: top;\n",
              "    }\n",
              "\n",
              "    .dataframe thead th {\n",
              "        text-align: right;\n",
              "    }\n",
              "</style>\n",
              "<table border=\"1\" class=\"dataframe\">\n",
              "  <thead>\n",
              "    <tr style=\"text-align: right;\">\n",
              "      <th></th>\n",
              "      <th>point_name</th>\n",
              "      <th>x</th>\n",
              "      <th>y</th>\n",
              "    </tr>\n",
              "  </thead>\n",
              "  <tbody>\n",
              "    <tr>\n",
              "      <th>0</th>\n",
              "      <td>A</td>\n",
              "      <td>20</td>\n",
              "      <td>18</td>\n",
              "    </tr>\n",
              "    <tr>\n",
              "      <th>1</th>\n",
              "      <td>B</td>\n",
              "      <td>11</td>\n",
              "      <td>-4</td>\n",
              "    </tr>\n",
              "    <tr>\n",
              "      <th>2</th>\n",
              "      <td>C</td>\n",
              "      <td>3</td>\n",
              "      <td>10</td>\n",
              "    </tr>\n",
              "    <tr>\n",
              "      <th>3</th>\n",
              "      <td>D</td>\n",
              "      <td>27</td>\n",
              "      <td>2</td>\n",
              "    </tr>\n",
              "  </tbody>\n",
              "</table>\n",
              "</div>"
            ],
            "text/plain": [
              "  point_name   x   y\n",
              "0          A  20  18\n",
              "1          B  11  -4\n",
              "2          C   3  10\n",
              "3          D  27   2"
            ]
          },
          "execution_count": 135,
          "metadata": {},
          "output_type": "execute_result"
        }
      ],
      "source": [
        "points"
      ]
    },
    {
      "cell_type": "markdown",
      "metadata": {
        "id": "juztIobieT-A"
      },
      "source": [
        "Entries in such structures are determined by row indices and column indices. This allows us to access and read their values. One of the functions we can use for this purpose is the `loc` function, which expects the row index and column index separated by commas."
      ]
    },
    {
      "cell_type": "code",
      "execution_count": 136,
      "metadata": {
        "colab": {
          "base_uri": "https://localhost:8080/"
        },
        "id": "9vT-N9y_ecBV",
        "outputId": "eed22635-56d3-4d67-d643-46157106736f"
      },
      "outputs": [
        {
          "data": {
            "text/plain": [
              "np.int64(11)"
            ]
          },
          "execution_count": 136,
          "metadata": {},
          "output_type": "execute_result"
        }
      ],
      "source": [
        "points.loc[1, 'x']"
      ]
    },
    {
      "cell_type": "markdown",
      "metadata": {
        "id": "EpdT2LBpe5ni"
      },
      "source": [
        "If it is necessary to read the values of a single column, for example, the one with the names of the points, we can do this by specifying the column name in square brackets as in the following example. If it is necessary to read the values of multiple columns, a list with the column names is specified."
      ]
    },
    {
      "cell_type": "code",
      "execution_count": 137,
      "metadata": {
        "colab": {
          "base_uri": "https://localhost:8080/"
        },
        "id": "8siLSjqde5I0",
        "outputId": "8d919ce6-f797-47f0-ff3d-6d276e585303"
      },
      "outputs": [
        {
          "data": {
            "text/plain": [
              "0    A\n",
              "1    B\n",
              "2    C\n",
              "3    D\n",
              "Name: point_name, dtype: object"
            ]
          },
          "execution_count": 137,
          "metadata": {},
          "output_type": "execute_result"
        }
      ],
      "source": [
        "points['point_name']"
      ]
    },
    {
      "cell_type": "markdown",
      "metadata": {
        "id": "gExlHU6DfMbW"
      },
      "source": [
        "If it is necessary to read the value of a row, for example, the one with index 2, we can do this using the `iloc` function."
      ]
    },
    {
      "cell_type": "code",
      "execution_count": 138,
      "metadata": {
        "colab": {
          "base_uri": "https://localhost:8080/"
        },
        "id": "ayNGEKqxfZU0",
        "outputId": "27566fd8-25e1-40fa-fb3d-1a0b61acfc62"
      },
      "outputs": [
        {
          "data": {
            "text/plain": [
              "point_name     C\n",
              "x              3\n",
              "y             10\n",
              "Name: 2, dtype: object"
            ]
          },
          "execution_count": 138,
          "metadata": {},
          "output_type": "execute_result"
        }
      ],
      "source": [
        "points.iloc[2]"
      ]
    },
    {
      "cell_type": "markdown",
      "metadata": {
        "id": "cqOQjZTNIygA"
      },
      "source": [
        "## Loading the Dataset"
      ]
    },
    {
      "cell_type": "markdown",
      "metadata": {
        "id": "Cdcv606OI0r7"
      },
      "source": [
        "The Pandas library offers support for working with many formats such as CSV, JSON, HTML, Excel, and others. For each of these formats, there is a corresponding function for loading data: `read_csv`, `read_json`, `read_html`, `read_excel`. As we can notice, they all start with the prefix `read_`."
      ]
    },
    {
      "cell_type": "markdown",
      "metadata": {
        "id": "zXLD8vvbKbQh"
      },
      "source": [
        "The dataset we will use in this exercise is known as Titanic and contains information about the passengers of the Titanic ship that sank in the Atlantic Ocean in 1912 after hitting an iceberg. This dataset can be downloaded from the Kaggle platform at https://www.kaggle.com/competitions/titanic/. The platform provides two parts of this dataset, `titanic_train.csv` and `titanic_test.csv`, the first for training and the second for testing models. You need to download the first dataset and transfer it to the Google Drive platform according to the guidelines in the Google Drive usage instructions. It should be found under the same name in the `sample_data` directory."
      ]
    },
    {
      "cell_type": "markdown",
      "metadata": {
        "id": "RZCL2QixExG4"
      },
      "source": [
        "Since the data is in CSV format, we will use the `read_csv` function to load it."
      ]
    },
    {
      "cell_type": "code",
      "execution_count": 139,
      "metadata": {
        "id": "_zqOKButgCm1"
      },
      "outputs": [],
      "source": [
        "data_path = 'titanic/train.csv'"
      ]
    },
    {
      "cell_type": "code",
      "execution_count": 140,
      "metadata": {
        "id": "4mU4NQBKrq7t"
      },
      "outputs": [],
      "source": [
        "data = pd.read_csv(data_path)"
      ]
    },
    {
      "cell_type": "markdown",
      "metadata": {
        "id": "nBGtepzVw6gw"
      },
      "source": [
        "Information about the dimensions of the dataset, i.e., the number of rows and columns, can be obtained using the `shape` attribute. The number of rows corresponds to the number of instances, while the number of columns corresponds to the number of attributes."
      ]
    },
    {
      "cell_type": "code",
      "execution_count": 141,
      "metadata": {
        "colab": {
          "base_uri": "https://localhost:8080/"
        },
        "id": "_xgu6YB8rs5j",
        "outputId": "d2d57a25-721c-418c-ac8a-93b0b4985ace"
      },
      "outputs": [
        {
          "data": {
            "text/plain": [
              "(891, 12)"
            ]
          },
          "execution_count": 141,
          "metadata": {},
          "output_type": "execute_result"
        }
      ],
      "source": [
        "data.shape"
      ]
    },
    {
      "cell_type": "markdown",
      "metadata": {
        "id": "IHXkVDNHwdLV"
      },
      "source": [
        "The first few rows of the loaded dataset can be obtained by calling the `head` function. Similarly, the last few rows of the loaded dataset can be obtained by calling the `tail` function. Both functions can take the number of rows to display as an argument - by default, five rows are displayed."
      ]
    },
    {
      "cell_type": "code",
      "execution_count": 142,
      "metadata": {
        "colab": {
          "base_uri": "https://localhost:8080/",
          "height": 206
        },
        "id": "omD8qNz3rvEl",
        "outputId": "5a649fec-c5d9-4851-d9dc-a5853670ea0e"
      },
      "outputs": [
        {
          "data": {
            "text/html": [
              "<div>\n",
              "<style scoped>\n",
              "    .dataframe tbody tr th:only-of-type {\n",
              "        vertical-align: middle;\n",
              "    }\n",
              "\n",
              "    .dataframe tbody tr th {\n",
              "        vertical-align: top;\n",
              "    }\n",
              "\n",
              "    .dataframe thead th {\n",
              "        text-align: right;\n",
              "    }\n",
              "</style>\n",
              "<table border=\"1\" class=\"dataframe\">\n",
              "  <thead>\n",
              "    <tr style=\"text-align: right;\">\n",
              "      <th></th>\n",
              "      <th>PassengerId</th>\n",
              "      <th>Survived</th>\n",
              "      <th>Pclass</th>\n",
              "      <th>Name</th>\n",
              "      <th>Sex</th>\n",
              "      <th>Age</th>\n",
              "      <th>SibSp</th>\n",
              "      <th>Parch</th>\n",
              "      <th>Ticket</th>\n",
              "      <th>Fare</th>\n",
              "      <th>Cabin</th>\n",
              "      <th>Embarked</th>\n",
              "    </tr>\n",
              "  </thead>\n",
              "  <tbody>\n",
              "    <tr>\n",
              "      <th>0</th>\n",
              "      <td>1</td>\n",
              "      <td>0</td>\n",
              "      <td>3</td>\n",
              "      <td>Braund, Mr. Owen Harris</td>\n",
              "      <td>male</td>\n",
              "      <td>22.0</td>\n",
              "      <td>1</td>\n",
              "      <td>0</td>\n",
              "      <td>A/5 21171</td>\n",
              "      <td>7.2500</td>\n",
              "      <td>NaN</td>\n",
              "      <td>S</td>\n",
              "    </tr>\n",
              "    <tr>\n",
              "      <th>1</th>\n",
              "      <td>2</td>\n",
              "      <td>1</td>\n",
              "      <td>1</td>\n",
              "      <td>Cumings, Mrs. John Bradley (Florence Briggs Th...</td>\n",
              "      <td>female</td>\n",
              "      <td>38.0</td>\n",
              "      <td>1</td>\n",
              "      <td>0</td>\n",
              "      <td>PC 17599</td>\n",
              "      <td>71.2833</td>\n",
              "      <td>C85</td>\n",
              "      <td>C</td>\n",
              "    </tr>\n",
              "    <tr>\n",
              "      <th>2</th>\n",
              "      <td>3</td>\n",
              "      <td>1</td>\n",
              "      <td>3</td>\n",
              "      <td>Heikkinen, Miss. Laina</td>\n",
              "      <td>female</td>\n",
              "      <td>26.0</td>\n",
              "      <td>0</td>\n",
              "      <td>0</td>\n",
              "      <td>STON/O2. 3101282</td>\n",
              "      <td>7.9250</td>\n",
              "      <td>NaN</td>\n",
              "      <td>S</td>\n",
              "    </tr>\n",
              "    <tr>\n",
              "      <th>3</th>\n",
              "      <td>4</td>\n",
              "      <td>1</td>\n",
              "      <td>1</td>\n",
              "      <td>Futrelle, Mrs. Jacques Heath (Lily May Peel)</td>\n",
              "      <td>female</td>\n",
              "      <td>35.0</td>\n",
              "      <td>1</td>\n",
              "      <td>0</td>\n",
              "      <td>113803</td>\n",
              "      <td>53.1000</td>\n",
              "      <td>C123</td>\n",
              "      <td>S</td>\n",
              "    </tr>\n",
              "    <tr>\n",
              "      <th>4</th>\n",
              "      <td>5</td>\n",
              "      <td>0</td>\n",
              "      <td>3</td>\n",
              "      <td>Allen, Mr. William Henry</td>\n",
              "      <td>male</td>\n",
              "      <td>35.0</td>\n",
              "      <td>0</td>\n",
              "      <td>0</td>\n",
              "      <td>373450</td>\n",
              "      <td>8.0500</td>\n",
              "      <td>NaN</td>\n",
              "      <td>S</td>\n",
              "    </tr>\n",
              "  </tbody>\n",
              "</table>\n",
              "</div>"
            ],
            "text/plain": [
              "   PassengerId  Survived  Pclass  \\\n",
              "0            1         0       3   \n",
              "1            2         1       1   \n",
              "2            3         1       3   \n",
              "3            4         1       1   \n",
              "4            5         0       3   \n",
              "\n",
              "                                                Name     Sex   Age  SibSp  \\\n",
              "0                            Braund, Mr. Owen Harris    male  22.0      1   \n",
              "1  Cumings, Mrs. John Bradley (Florence Briggs Th...  female  38.0      1   \n",
              "2                             Heikkinen, Miss. Laina  female  26.0      0   \n",
              "3       Futrelle, Mrs. Jacques Heath (Lily May Peel)  female  35.0      1   \n",
              "4                           Allen, Mr. William Henry    male  35.0      0   \n",
              "\n",
              "   Parch            Ticket     Fare Cabin Embarked  \n",
              "0      0         A/5 21171   7.2500   NaN        S  \n",
              "1      0          PC 17599  71.2833   C85        C  \n",
              "2      0  STON/O2. 3101282   7.9250   NaN        S  \n",
              "3      0            113803  53.1000  C123        S  \n",
              "4      0            373450   8.0500   NaN        S  "
            ]
          },
          "execution_count": 142,
          "metadata": {},
          "output_type": "execute_result"
        }
      ],
      "source": [
        "data.head()"
      ]
    },
    {
      "cell_type": "markdown",
      "metadata": {},
      "source": [
        "## Attribute Analysis"
      ]
    },
    {
      "cell_type": "markdown",
      "metadata": {
        "id": "7SF1wqklGw7x"
      },
      "source": [
        "A quick overview of the attribute names and types can be obtained using the `info` function. This function will also print the number of non-missing values for each attribute."
      ]
    },
    {
      "cell_type": "code",
      "execution_count": 143,
      "metadata": {
        "colab": {
          "base_uri": "https://localhost:8080/"
        },
        "id": "yj-zySsUb2AB",
        "outputId": "06a37f1d-1f5a-4987-8625-3652b7f85d65"
      },
      "outputs": [
        {
          "name": "stdout",
          "output_type": "stream",
          "text": [
            "<class 'pandas.core.frame.DataFrame'>\n",
            "RangeIndex: 891 entries, 0 to 890\n",
            "Data columns (total 12 columns):\n",
            " #   Column       Non-Null Count  Dtype  \n",
            "---  ------       --------------  -----  \n",
            " 0   PassengerId  891 non-null    int64  \n",
            " 1   Survived     891 non-null    int64  \n",
            " 2   Pclass       891 non-null    int64  \n",
            " 3   Name         891 non-null    object \n",
            " 4   Sex          891 non-null    object \n",
            " 5   Age          714 non-null    float64\n",
            " 6   SibSp        891 non-null    int64  \n",
            " 7   Parch        891 non-null    int64  \n",
            " 8   Ticket       891 non-null    object \n",
            " 9   Fare         891 non-null    float64\n",
            " 10  Cabin        204 non-null    object \n",
            " 11  Embarked     889 non-null    object \n",
            "dtypes: float64(2), int64(5), object(5)\n",
            "memory usage: 83.7+ KB\n"
          ]
        }
      ],
      "source": [
        "data.info()"
      ]
    },
    {
      "cell_type": "markdown",
      "metadata": {
        "id": "a4iM3LZfFOi3"
      },
      "source": [
        "The attributes present in the dataset are: passenger identifier (`PassengerId`), indicator of whether the passenger survived the shipwreck or not (`Survived`), passenger class (`Pclass`), passenger name (`Name`), passenger gender (`Sex`), age (`Age`), number of family members on board (`SibSp`), number of children or parents on board (`Parch`), ticket code (`Ticket`), ticket price (`Fare`), cabin number (`Cabin`), and the station where the passenger boarded the ship (`Embarked`). You can read more about the meaning of these attributes on the Kaggle platform page."
      ]
    },
    {
      "cell_type": "markdown",
      "metadata": {
        "id": "27tRVkOsHFsZ"
      },
      "source": [
        "Among the numerical attributes, we will single out one attribute and analyze it separately. Let it be the `Fare` attribute which represents the ticket price. Additional information about this attribute can be obtained by calling the `describe` function - it will inform us about the minimum and maximum value of the attribute, the average value, and the percentile values."
      ]
    },
    {
      "cell_type": "code",
      "execution_count": 144,
      "metadata": {
        "colab": {
          "base_uri": "https://localhost:8080/"
        },
        "id": "1cZ5ZneVHsih",
        "outputId": "6e425186-8b85-4b53-dd44-0572255360a5"
      },
      "outputs": [
        {
          "data": {
            "text/plain": [
              "count    891.000000\n",
              "mean      32.204208\n",
              "std       49.693429\n",
              "min        0.000000\n",
              "25%        7.910400\n",
              "50%       14.454200\n",
              "75%       31.000000\n",
              "max      512.329200\n",
              "Name: Fare, dtype: float64"
            ]
          },
          "execution_count": 144,
          "metadata": {},
          "output_type": "execute_result"
        }
      ],
      "source": [
        "data['Fare'].describe()"
      ]
    },
    {
      "cell_type": "markdown",
      "metadata": {
        "id": "iIvI39rvIYmX"
      },
      "source": [
        "In the output, `count` indicates the number of values in the column, `mean` the average value, `std` the standard deviation, and `min` and `max` the minimum and maximum values, respectively. The outputs `25%`, `50%`, and `75%` indicate the percentile values. Thus, the 50th percentile is the value below which half of all values lie. This value is also known as the median. Similarly, the 25th percentile indicates the value below which one-quarter of all values lie, and the 75th percentile the value below which three-quarters of all values lie. These values are also called the first and third quartiles, while the median is also referred to as the second quartile. The purpose of all these calculations is to give us insight into the distribution of attribute values.\n"
      ]
    },
    {
      "cell_type": "markdown",
      "metadata": {
        "id": "6t_3MjslKZ70"
      },
      "source": [
        "An overview of attribute values is also obtained by displaying histograms."
      ]
    },
    {
      "cell_type": "code",
      "execution_count": 145,
      "metadata": {
        "colab": {
          "base_uri": "https://localhost:8080/",
          "height": 447
        },
        "id": "TmDWs46iKjj0",
        "outputId": "7942d42a-fc55-4f1d-d895-db313e9bf392"
      },
      "outputs": [
        {
          "data": {
            "text/plain": [
              "<Axes: >"
            ]
          },
          "execution_count": 145,
          "metadata": {},
          "output_type": "execute_result"
        },
        {
          "data": {
            "image/png": "[encoded data removed]",
            "text/plain": [
              "<Figure size 640x480 with 1 Axes>"
            ]
          },
          "metadata": {},
          "output_type": "display_data"
        }
      ],
      "source": [
        "data['Fare'].hist()"
      ]
    },
    {
      "cell_type": "markdown",
      "metadata": {
        "id": "2zmY9GQ9K7xU"
      },
      "source": [
        "From these analyses, it may be interesting to subsequently check entries with a price of 0."
      ]
    },
    {
      "cell_type": "code",
      "execution_count": 146,
      "metadata": {
        "colab": {
          "base_uri": "https://localhost:8080/"
        },
        "id": "KmqI45eWGwEn",
        "outputId": "b3240fb3-8ebd-4b4e-cad1-d2dd1f86a5d2"
      },
      "outputs": [
        {
          "data": {
            "text/plain": [
              "(15, 12)"
            ]
          },
          "execution_count": 146,
          "metadata": {},
          "output_type": "execute_result"
        }
      ],
      "source": [
        "data[data['Fare']==0].shape"
      ]
    },
    {
      "cell_type": "code",
      "execution_count": 147,
      "metadata": {
        "colab": {
          "base_uri": "https://localhost:8080/",
          "height": 206
        },
        "id": "7mYgOTw8G8RT",
        "outputId": "bc6b4dc0-6a7c-4368-cd46-61819a340de7"
      },
      "outputs": [
        {
          "data": {
            "text/html": [
              "<div>\n",
              "<style scoped>\n",
              "    .dataframe tbody tr th:only-of-type {\n",
              "        vertical-align: middle;\n",
              "    }\n",
              "\n",
              "    .dataframe tbody tr th {\n",
              "        vertical-align: top;\n",
              "    }\n",
              "\n",
              "    .dataframe thead th {\n",
              "        text-align: right;\n",
              "    }\n",
              "</style>\n",
              "<table border=\"1\" class=\"dataframe\">\n",
              "  <thead>\n",
              "    <tr style=\"text-align: right;\">\n",
              "      <th></th>\n",
              "      <th>PassengerId</th>\n",
              "      <th>Survived</th>\n",
              "      <th>Pclass</th>\n",
              "      <th>Name</th>\n",
              "      <th>Sex</th>\n",
              "      <th>Age</th>\n",
              "      <th>SibSp</th>\n",
              "      <th>Parch</th>\n",
              "      <th>Ticket</th>\n",
              "      <th>Fare</th>\n",
              "      <th>Cabin</th>\n",
              "      <th>Embarked</th>\n",
              "    </tr>\n",
              "  </thead>\n",
              "  <tbody>\n",
              "    <tr>\n",
              "      <th>179</th>\n",
              "      <td>180</td>\n",
              "      <td>0</td>\n",
              "      <td>3</td>\n",
              "      <td>Leonard, Mr. Lionel</td>\n",
              "      <td>male</td>\n",
              "      <td>36.0</td>\n",
              "      <td>0</td>\n",
              "      <td>0</td>\n",
              "      <td>LINE</td>\n",
              "      <td>0.0</td>\n",
              "      <td>NaN</td>\n",
              "      <td>S</td>\n",
              "    </tr>\n",
              "    <tr>\n",
              "      <th>263</th>\n",
              "      <td>264</td>\n",
              "      <td>0</td>\n",
              "      <td>1</td>\n",
              "      <td>Harrison, Mr. William</td>\n",
              "      <td>male</td>\n",
              "      <td>40.0</td>\n",
              "      <td>0</td>\n",
              "      <td>0</td>\n",
              "      <td>112059</td>\n",
              "      <td>0.0</td>\n",
              "      <td>B94</td>\n",
              "      <td>S</td>\n",
              "    </tr>\n",
              "    <tr>\n",
              "      <th>271</th>\n",
              "      <td>272</td>\n",
              "      <td>1</td>\n",
              "      <td>3</td>\n",
              "      <td>Tornquist, Mr. William Henry</td>\n",
              "      <td>male</td>\n",
              "      <td>25.0</td>\n",
              "      <td>0</td>\n",
              "      <td>0</td>\n",
              "      <td>LINE</td>\n",
              "      <td>0.0</td>\n",
              "      <td>NaN</td>\n",
              "      <td>S</td>\n",
              "    </tr>\n",
              "    <tr>\n",
              "      <th>277</th>\n",
              "      <td>278</td>\n",
              "      <td>0</td>\n",
              "      <td>2</td>\n",
              "      <td>Parkes, Mr. Francis \"Frank\"</td>\n",
              "      <td>male</td>\n",
              "      <td>NaN</td>\n",
              "      <td>0</td>\n",
              "      <td>0</td>\n",
              "      <td>239853</td>\n",
              "      <td>0.0</td>\n",
              "      <td>NaN</td>\n",
              "      <td>S</td>\n",
              "    </tr>\n",
              "    <tr>\n",
              "      <th>302</th>\n",
              "      <td>303</td>\n",
              "      <td>0</td>\n",
              "      <td>3</td>\n",
              "      <td>Johnson, Mr. William Cahoone Jr</td>\n",
              "      <td>male</td>\n",
              "      <td>19.0</td>\n",
              "      <td>0</td>\n",
              "      <td>0</td>\n",
              "      <td>LINE</td>\n",
              "      <td>0.0</td>\n",
              "      <td>NaN</td>\n",
              "      <td>S</td>\n",
              "    </tr>\n",
              "  </tbody>\n",
              "</table>\n",
              "</div>"
            ],
            "text/plain": [
              "     PassengerId  Survived  Pclass                             Name   Sex  \\\n",
              "179          180         0       3              Leonard, Mr. Lionel  male   \n",
              "263          264         0       1            Harrison, Mr. William  male   \n",
              "271          272         1       3     Tornquist, Mr. William Henry  male   \n",
              "277          278         0       2      Parkes, Mr. Francis \"Frank\"  male   \n",
              "302          303         0       3  Johnson, Mr. William Cahoone Jr  male   \n",
              "\n",
              "      Age  SibSp  Parch  Ticket  Fare Cabin Embarked  \n",
              "179  36.0      0      0    LINE   0.0   NaN        S  \n",
              "263  40.0      0      0  112059   0.0   B94        S  \n",
              "271  25.0      0      0    LINE   0.0   NaN        S  \n",
              "277   NaN      0      0  239853   0.0   NaN        S  \n",
              "302  19.0      0      0    LINE   0.0   NaN        S  "
            ]
          },
          "execution_count": 147,
          "metadata": {},
          "output_type": "execute_result"
        }
      ],
      "source": [
        "data[data['Fare']==0].head()\n"
      ]
    },
    {
      "cell_type": "markdown",
      "metadata": {
        "id": "dhHvA_47LF13"
      },
      "source": [
        "Similarly, it may be interesting to subsequently check entries with the highest prices."
      ]
    },
    {
      "cell_type": "code",
      "execution_count": 148,
      "metadata": {
        "colab": {
          "base_uri": "https://localhost:8080/"
        },
        "id": "noCyxly0LNsh",
        "outputId": "cd1bc14c-ab58-455e-fb2c-6e945efa4eda"
      },
      "outputs": [
        {
          "data": {
            "text/plain": [
              "(20, 12)"
            ]
          },
          "execution_count": 148,
          "metadata": {},
          "output_type": "execute_result"
        }
      ],
      "source": [
        "data[data['Fare']>200].shape"
      ]
    },
    {
      "cell_type": "code",
      "execution_count": 149,
      "metadata": {
        "colab": {
          "base_uri": "https://localhost:8080/",
          "height": 206
        },
        "id": "pxpwnWI5Lf2Z",
        "outputId": "e4031aac-34c5-4f98-b485-437752038347"
      },
      "outputs": [
        {
          "data": {
            "text/html": [
              "<div>\n",
              "<style scoped>\n",
              "    .dataframe tbody tr th:only-of-type {\n",
              "        vertical-align: middle;\n",
              "    }\n",
              "\n",
              "    .dataframe tbody tr th {\n",
              "        vertical-align: top;\n",
              "    }\n",
              "\n",
              "    .dataframe thead th {\n",
              "        text-align: right;\n",
              "    }\n",
              "</style>\n",
              "<table border=\"1\" class=\"dataframe\">\n",
              "  <thead>\n",
              "    <tr style=\"text-align: right;\">\n",
              "      <th></th>\n",
              "      <th>PassengerId</th>\n",
              "      <th>Survived</th>\n",
              "      <th>Pclass</th>\n",
              "      <th>Name</th>\n",
              "      <th>Sex</th>\n",
              "      <th>Age</th>\n",
              "      <th>SibSp</th>\n",
              "      <th>Parch</th>\n",
              "      <th>Ticket</th>\n",
              "      <th>Fare</th>\n",
              "      <th>Cabin</th>\n",
              "      <th>Embarked</th>\n",
              "    </tr>\n",
              "  </thead>\n",
              "  <tbody>\n",
              "    <tr>\n",
              "      <th>27</th>\n",
              "      <td>28</td>\n",
              "      <td>0</td>\n",
              "      <td>1</td>\n",
              "      <td>Fortune, Mr. Charles Alexander</td>\n",
              "      <td>male</td>\n",
              "      <td>19.0</td>\n",
              "      <td>3</td>\n",
              "      <td>2</td>\n",
              "      <td>19950</td>\n",
              "      <td>263.0000</td>\n",
              "      <td>C23 C25 C27</td>\n",
              "      <td>S</td>\n",
              "    </tr>\n",
              "    <tr>\n",
              "      <th>88</th>\n",
              "      <td>89</td>\n",
              "      <td>1</td>\n",
              "      <td>1</td>\n",
              "      <td>Fortune, Miss. Mabel Helen</td>\n",
              "      <td>female</td>\n",
              "      <td>23.0</td>\n",
              "      <td>3</td>\n",
              "      <td>2</td>\n",
              "      <td>19950</td>\n",
              "      <td>263.0000</td>\n",
              "      <td>C23 C25 C27</td>\n",
              "      <td>S</td>\n",
              "    </tr>\n",
              "    <tr>\n",
              "      <th>118</th>\n",
              "      <td>119</td>\n",
              "      <td>0</td>\n",
              "      <td>1</td>\n",
              "      <td>Baxter, Mr. Quigg Edmond</td>\n",
              "      <td>male</td>\n",
              "      <td>24.0</td>\n",
              "      <td>0</td>\n",
              "      <td>1</td>\n",
              "      <td>PC 17558</td>\n",
              "      <td>247.5208</td>\n",
              "      <td>B58 B60</td>\n",
              "      <td>C</td>\n",
              "    </tr>\n",
              "    <tr>\n",
              "      <th>258</th>\n",
              "      <td>259</td>\n",
              "      <td>1</td>\n",
              "      <td>1</td>\n",
              "      <td>Ward, Miss. Anna</td>\n",
              "      <td>female</td>\n",
              "      <td>35.0</td>\n",
              "      <td>0</td>\n",
              "      <td>0</td>\n",
              "      <td>PC 17755</td>\n",
              "      <td>512.3292</td>\n",
              "      <td>NaN</td>\n",
              "      <td>C</td>\n",
              "    </tr>\n",
              "    <tr>\n",
              "      <th>299</th>\n",
              "      <td>300</td>\n",
              "      <td>1</td>\n",
              "      <td>1</td>\n",
              "      <td>Baxter, Mrs. James (Helene DeLaudeniere Chaput)</td>\n",
              "      <td>female</td>\n",
              "      <td>50.0</td>\n",
              "      <td>0</td>\n",
              "      <td>1</td>\n",
              "      <td>PC 17558</td>\n",
              "      <td>247.5208</td>\n",
              "      <td>B58 B60</td>\n",
              "      <td>C</td>\n",
              "    </tr>\n",
              "  </tbody>\n",
              "</table>\n",
              "</div>"
            ],
            "text/plain": [
              "     PassengerId  Survived  Pclass  \\\n",
              "27            28         0       1   \n",
              "88            89         1       1   \n",
              "118          119         0       1   \n",
              "258          259         1       1   \n",
              "299          300         1       1   \n",
              "\n",
              "                                                Name     Sex   Age  SibSp  \\\n",
              "27                    Fortune, Mr. Charles Alexander    male  19.0      3   \n",
              "88                        Fortune, Miss. Mabel Helen  female  23.0      3   \n",
              "118                         Baxter, Mr. Quigg Edmond    male  24.0      0   \n",
              "258                                 Ward, Miss. Anna  female  35.0      0   \n",
              "299  Baxter, Mrs. James (Helene DeLaudeniere Chaput)  female  50.0      0   \n",
              "\n",
              "     Parch    Ticket      Fare        Cabin Embarked  \n",
              "27       2     19950  263.0000  C23 C25 C27        S  \n",
              "88       2     19950  263.0000  C23 C25 C27        S  \n",
              "118      1  PC 17558  247.5208      B58 B60        C  \n",
              "258      0  PC 17755  512.3292          NaN        C  \n",
              "299      1  PC 17558  247.5208      B58 B60        C  "
            ]
          },
          "execution_count": 149,
          "metadata": {},
          "output_type": "execute_result"
        }
      ],
      "source": [
        "data[data['Fare']>200].head()"
      ]
    },
    {
      "cell_type": "markdown",
      "metadata": {
        "id": "9zxLagKlsdTm"
      },
      "source": [
        "The average ticket price can be calculated using the `mean` function."
      ]
    },
    {
      "cell_type": "code",
      "execution_count": 150,
      "metadata": {
        "colab": {
          "base_uri": "https://localhost:8080/"
        },
        "id": "0xIHdN44HvEa",
        "outputId": "508b038b-1047-46ee-ff5b-84e37dfbafaf"
      },
      "outputs": [
        {
          "data": {
            "text/plain": [
              "np.float64(32.204207968574636)"
            ]
          },
          "execution_count": 150,
          "metadata": {},
          "output_type": "execute_result"
        }
      ],
      "source": [
        "data['Fare'].mean()"
      ]
    },
    {
      "cell_type": "markdown",
      "metadata": {
        "id": "63TnqrBUH0i8"
      },
      "source": [
        "We will also single out one categorical attribute. Let it be the gender of the passengers `Sex`. For attributes of this type, we are usually interested in the set of possible values and their frequency. The `value_counts` function can help us with this task, as it calculates the number of occurrences for each possible value."
      ]
    },
    {
      "cell_type": "code",
      "execution_count": 151,
      "metadata": {
        "colab": {
          "base_uri": "https://localhost:8080/"
        },
        "id": "lNCDpLKQII4l",
        "outputId": "e35956ec-23af-44fd-eff5-c2ca4cf3b4d5"
      },
      "outputs": [
        {
          "data": {
            "text/plain": [
              "Sex\n",
              "male      577\n",
              "female    314\n",
              "Name: count, dtype: int64"
            ]
          },
          "execution_count": 151,
          "metadata": {},
          "output_type": "execute_result"
        }
      ],
      "source": [
        "data['Sex'].value_counts()"
      ]
    },
    {
      "cell_type": "markdown",
      "metadata": {
        "id": "5e0fg7OvAF5S"
      },
      "source": [
        "It is convenient to display statistics related to categorical variables graphically."
      ]
    },
    {
      "cell_type": "code",
      "execution_count": 152,
      "metadata": {
        "id": "yGm6uGsL_yaJ"
      },
      "outputs": [],
      "source": [
        "statistics_by_gender = data['Sex'].value_counts()"
      ]
    },
    {
      "cell_type": "code",
      "execution_count": 153,
      "metadata": {
        "colab": {
          "base_uri": "https://localhost:8080/",
          "height": 452
        },
        "id": "byADsLB3_Oi1",
        "outputId": "86e71b1d-51bd-4d1d-dcf4-b32c81cfe758"
      },
      "outputs": [
        {
          "data": {
            "image/png": "[encoded data removed]",
            "text/plain": [
              "<Figure size 640x480 with 1 Axes>"
            ]
          },
          "metadata": {},
          "output_type": "display_data"
        }
      ],
      "source": [
        "plt.title('Passenger Statistics by Gender')\n",
        "plt.bar(statistics_by_gender.index, statistics_by_gender.values, color='orange')\n",
        "plt.show()"
      ]
    },
    {
      "cell_type": "markdown",
      "metadata": {
        "id": "g1JL2SfsIKRs"
      },
      "source": [
        "## Missing Values"
      ]
    },
    {
      "cell_type": "markdown",
      "metadata": {
        "id": "8bbuySoutrc0"
      },
      "source": [
        "As we can notice from the output of the `info` function, there are attributes with missing values."
      ]
    },
    {
      "cell_type": "markdown",
      "metadata": {
        "id": "L8QJctqmt1Ge"
      },
      "source": [
        "One such attribute is the `Embarked` attribute, which marks the station where the passenger boarded the ship. Since we only have two missing values, it is most natural to delete the rows in which they appear. The `isna` function helps us check if a value is missing, while the row deletion itself can be implemented using the `drop` function."
      ]
    },
    {
      "cell_type": "code",
      "execution_count": 154,
      "metadata": {
        "colab": {
          "base_uri": "https://localhost:8080/",
          "height": 112
        },
        "id": "UexWDNcuIJ5y",
        "outputId": "fbe53c91-7df3-4381-ce0f-8d73d6ef9a5e"
      },
      "outputs": [
        {
          "data": {
            "text/html": [
              "<div>\n",
              "<style scoped>\n",
              "    .dataframe tbody tr th:only-of-type {\n",
              "        vertical-align: middle;\n",
              "    }\n",
              "\n",
              "    .dataframe tbody tr th {\n",
              "        vertical-align: top;\n",
              "    }\n",
              "\n",
              "    .dataframe thead th {\n",
              "        text-align: right;\n",
              "    }\n",
              "</style>\n",
              "<table border=\"1\" class=\"dataframe\">\n",
              "  <thead>\n",
              "    <tr style=\"text-align: right;\">\n",
              "      <th></th>\n",
              "      <th>PassengerId</th>\n",
              "      <th>Survived</th>\n",
              "      <th>Pclass</th>\n",
              "      <th>Name</th>\n",
              "      <th>Sex</th>\n",
              "      <th>Age</th>\n",
              "      <th>SibSp</th>\n",
              "      <th>Parch</th>\n",
              "      <th>Ticket</th>\n",
              "      <th>Fare</th>\n",
              "      <th>Cabin</th>\n",
              "      <th>Embarked</th>\n",
              "    </tr>\n",
              "  </thead>\n",
              "  <tbody>\n",
              "    <tr>\n",
              "      <th>61</th>\n",
              "      <td>62</td>\n",
              "      <td>1</td>\n",
              "      <td>1</td>\n",
              "      <td>Icard, Miss. Amelie</td>\n",
              "      <td>female</td>\n",
              "      <td>38.0</td>\n",
              "      <td>0</td>\n",
              "      <td>0</td>\n",
              "      <td>113572</td>\n",
              "      <td>80.0</td>\n",
              "      <td>B28</td>\n",
              "      <td>NaN</td>\n",
              "    </tr>\n",
              "    <tr>\n",
              "      <th>829</th>\n",
              "      <td>830</td>\n",
              "      <td>1</td>\n",
              "      <td>1</td>\n",
              "      <td>Stone, Mrs. George Nelson (Martha Evelyn)</td>\n",
              "      <td>female</td>\n",
              "      <td>62.0</td>\n",
              "      <td>0</td>\n",
              "      <td>0</td>\n",
              "      <td>113572</td>\n",
              "      <td>80.0</td>\n",
              "      <td>B28</td>\n",
              "      <td>NaN</td>\n",
              "    </tr>\n",
              "  </tbody>\n",
              "</table>\n",
              "</div>"
            ],
            "text/plain": [
              "     PassengerId  Survived  Pclass                                       Name  \\\n",
              "61            62         1       1                        Icard, Miss. Amelie   \n",
              "829          830         1       1  Stone, Mrs. George Nelson (Martha Evelyn)   \n",
              "\n",
              "        Sex   Age  SibSp  Parch  Ticket  Fare Cabin Embarked  \n",
              "61   female  38.0      0      0  113572  80.0   B28      NaN  \n",
              "829  female  62.0      0      0  113572  80.0   B28      NaN  "
            ]
          },
          "execution_count": 154,
          "metadata": {},
          "output_type": "execute_result"
        }
      ],
      "source": [
        "data[data['Embarked'].isna()]"
      ]
    },
    {
      "cell_type": "code",
      "execution_count": 155,
      "metadata": {
        "id": "ViOP9MmTupOY"
      },
      "outputs": [],
      "source": [
        "data.drop(index=[61, 829], inplace=True)"
      ]
    },
    {
      "cell_type": "code",
      "execution_count": 156,
      "metadata": {
        "colab": {
          "base_uri": "https://localhost:8080/"
        },
        "id": "OLpcixZhvNeR",
        "outputId": "67409c65-fcde-4f08-face-b6b6898fe260"
      },
      "outputs": [
        {
          "data": {
            "text/plain": [
              "(889, 12)"
            ]
          },
          "execution_count": 156,
          "metadata": {},
          "output_type": "execute_result"
        }
      ],
      "source": [
        "data.shape"
      ]
    },
    {
      "cell_type": "markdown",
      "metadata": {
        "id": "UDg-sFiLvPri"
      },
      "source": [
        "As we can notice, we now have two rows less in the dataset. By providing the `index` argument to the `drop` function, we specified the indices of the rows to be deleted, while with the `inplace` argument, we indicated that we want these instances to be deleted \"in place\". The default behavior when deleting is to generate a modified copy of the data."
      ]
    },
    {
      "cell_type": "markdown",
      "metadata": {
        "id": "6mL7XAWJv1hY"
      },
      "source": [
        "In the `Cabin` column, we see that a lot of values are missing - only 204 values are known. Therefore, it is most convenient to delete this column entirely. We will achieve this using the `drop` function, but this time specifying the column name instead of the index."
      ]
    },
    {
      "cell_type": "code",
      "execution_count": 157,
      "metadata": {
        "id": "RVXihs31vv-A"
      },
      "outputs": [],
      "source": [
        "data.drop(columns=['Cabin'], inplace=True)"
      ]
    },
    {
      "cell_type": "code",
      "execution_count": 158,
      "metadata": {
        "colab": {
          "base_uri": "https://localhost:8080/"
        },
        "id": "Ki9Om_TcvvzG",
        "outputId": "e18e0349-9bad-4be3-8d44-9c01f5020ff1"
      },
      "outputs": [
        {
          "data": {
            "text/plain": [
              "(889, 11)"
            ]
          },
          "execution_count": 158,
          "metadata": {},
          "output_type": "execute_result"
        }
      ],
      "source": [
        "data.shape"
      ]
    },
    {
      "cell_type": "code",
      "execution_count": 159,
      "metadata": {
        "colab": {
          "base_uri": "https://localhost:8080/",
          "height": 206
        },
        "id": "2BHUzwVhvvlJ",
        "outputId": "f239b7b7-e4bf-41d1-8235-c65fffb74fc1"
      },
      "outputs": [
        {
          "data": {
            "text/html": [
              "<div>\n",
              "<style scoped>\n",
              "    .dataframe tbody tr th:only-of-type {\n",
              "        vertical-align: middle;\n",
              "    }\n",
              "\n",
              "    .dataframe tbody tr th {\n",
              "        vertical-align: top;\n",
              "    }\n",
              "\n",
              "    .dataframe thead th {\n",
              "        text-align: right;\n",
              "    }\n",
              "</style>\n",
              "<table border=\"1\" class=\"dataframe\">\n",
              "  <thead>\n",
              "    <tr style=\"text-align: right;\">\n",
              "      <th></th>\n",
              "      <th>PassengerId</th>\n",
              "      <th>Survived</th>\n",
              "      <th>Pclass</th>\n",
              "      <th>Name</th>\n",
              "      <th>Sex</th>\n",
              "      <th>Age</th>\n",
              "      <th>SibSp</th>\n",
              "      <th>Parch</th>\n",
              "      <th>Ticket</th>\n",
              "      <th>Fare</th>\n",
              "      <th>Embarked</th>\n",
              "    </tr>\n",
              "  </thead>\n",
              "  <tbody>\n",
              "    <tr>\n",
              "      <th>0</th>\n",
              "      <td>1</td>\n",
              "      <td>0</td>\n",
              "      <td>3</td>\n",
              "      <td>Braund, Mr. Owen Harris</td>\n",
              "      <td>male</td>\n",
              "      <td>22.0</td>\n",
              "      <td>1</td>\n",
              "      <td>0</td>\n",
              "      <td>A/5 21171</td>\n",
              "      <td>7.2500</td>\n",
              "      <td>S</td>\n",
              "    </tr>\n",
              "    <tr>\n",
              "      <th>1</th>\n",
              "      <td>2</td>\n",
              "      <td>1</td>\n",
              "      <td>1</td>\n",
              "      <td>Cumings, Mrs. John Bradley (Florence Briggs Th...</td>\n",
              "      <td>female</td>\n",
              "      <td>38.0</td>\n",
              "      <td>1</td>\n",
              "      <td>0</td>\n",
              "      <td>PC 17599</td>\n",
              "      <td>71.2833</td>\n",
              "      <td>C</td>\n",
              "    </tr>\n",
              "    <tr>\n",
              "      <th>2</th>\n",
              "      <td>3</td>\n",
              "      <td>1</td>\n",
              "      <td>3</td>\n",
              "      <td>Heikkinen, Miss. Laina</td>\n",
              "      <td>female</td>\n",
              "      <td>26.0</td>\n",
              "      <td>0</td>\n",
              "      <td>0</td>\n",
              "      <td>STON/O2. 3101282</td>\n",
              "      <td>7.9250</td>\n",
              "      <td>S</td>\n",
              "    </tr>\n",
              "    <tr>\n",
              "      <th>3</th>\n",
              "      <td>4</td>\n",
              "      <td>1</td>\n",
              "      <td>1</td>\n",
              "      <td>Futrelle, Mrs. Jacques Heath (Lily May Peel)</td>\n",
              "      <td>female</td>\n",
              "      <td>35.0</td>\n",
              "      <td>1</td>\n",
              "      <td>0</td>\n",
              "      <td>113803</td>\n",
              "      <td>53.1000</td>\n",
              "      <td>S</td>\n",
              "    </tr>\n",
              "    <tr>\n",
              "      <th>4</th>\n",
              "      <td>5</td>\n",
              "      <td>0</td>\n",
              "      <td>3</td>\n",
              "      <td>Allen, Mr. William Henry</td>\n",
              "      <td>male</td>\n",
              "      <td>35.0</td>\n",
              "      <td>0</td>\n",
              "      <td>0</td>\n",
              "      <td>373450</td>\n",
              "      <td>8.0500</td>\n",
              "      <td>S</td>\n",
              "    </tr>\n",
              "  </tbody>\n",
              "</table>\n",
              "</div>"
            ],
            "text/plain": [
              "   PassengerId  Survived  Pclass  \\\n",
              "0            1         0       3   \n",
              "1            2         1       1   \n",
              "2            3         1       3   \n",
              "3            4         1       1   \n",
              "4            5         0       3   \n",
              "\n",
              "                                                Name     Sex   Age  SibSp  \\\n",
              "0                            Braund, Mr. Owen Harris    male  22.0      1   \n",
              "1  Cumings, Mrs. John Bradley (Florence Briggs Th...  female  38.0      1   \n",
              "2                             Heikkinen, Miss. Laina  female  26.0      0   \n",
              "3       Futrelle, Mrs. Jacques Heath (Lily May Peel)  female  35.0      1   \n",
              "4                           Allen, Mr. William Henry    male  35.0      0   \n",
              "\n",
              "   Parch            Ticket     Fare Embarked  \n",
              "0      0         A/5 21171   7.2500        S  \n",
              "1      0          PC 17599  71.2833        C  \n",
              "2      0  STON/O2. 3101282   7.9250        S  \n",
              "3      0            113803  53.1000        S  \n",
              "4      0            373450   8.0500        S  "
            ]
          },
          "execution_count": 159,
          "metadata": {},
          "output_type": "execute_result"
        }
      ],
      "source": [
        "data.head()"
      ]
    },
    {
      "cell_type": "markdown",
      "metadata": {
        "id": "Mr1qMiDxxOqV"
      },
      "source": [
        "The last column with missing values is the `Age` column. Deleting rows with missing values for this attribute would result in losing about one-fifth of the dataset, and the column itself has more known values than missing ones. Therefore, it is convenient to replace the missing values, for example, with the average age of the passengers. The `fillna` function, which expects the value to replace the missing values as an argument, can help us with this task. We also performed this replacement in place by using the `inplace` argument."
      ]
    },
    {
      "cell_type": "code",
      "execution_count": 160,
      "metadata": {
        "id": "-f1xCBS_vvYj"
      },
      "outputs": [],
      "source": [
        "average_age = data['Age'].mean()"
      ]
    },
    {
      "cell_type": "code",
      "execution_count": 161,
      "metadata": {
        "id": "7VR0CyRpyfQ6"
      },
      "outputs": [
        {
          "name": "stderr",
          "output_type": "stream",
          "text": [
            "C:\\Users\\Mejkerslab\\AppData\\Local\\Temp\\ipykernel_10288\\1418912913.py:1: FutureWarning: A value is trying to be set on a copy of a DataFrame or Series through chained assignment using an inplace method.\n",
            "The behavior will change in pandas 3.0. This inplace method will never work because the intermediate object on which we are setting values always behaves as a copy.\n",
            "\n",
            "For example, when doing 'df[col].method(value, inplace=True)', try using 'df.method({col: value}, inplace=True)' or df[col] = df[col].method(value) instead, to perform the operation inplace on the original object.\n",
            "\n",
            "\n",
            "  data['Age'].fillna(average_age, inplace=True)\n"
          ]
        }
      ],
      "source": [
        "data['Age'].fillna(average_age, inplace=True)"
      ]
    },
    {
      "cell_type": "code",
      "execution_count": 162,
      "metadata": {
        "colab": {
          "base_uri": "https://localhost:8080/",
          "height": 447
        },
        "id": "9gz5XNm3zwot",
        "outputId": "586f7964-89d2-4f4d-9426-5e1f546048b5"
      },
      "outputs": [
        {
          "data": {
            "text/plain": [
              "<Axes: >"
            ]
          },
          "execution_count": 162,
          "metadata": {},
          "output_type": "execute_result"
        },
        {
          "data": {
            "image/png": "[encoded data removed]",
            "text/plain": [
              "<Figure size 640x480 with 1 Axes>"
            ]
          },
          "metadata": {},
          "output_type": "display_data"
        }
      ],
      "source": [
        "data['Age'].hist()"
      ]
    },
    {
      "cell_type": "markdown",
      "metadata": {
        "id": "jP5wbAdpIP4k"
      },
      "source": [
        "## Duplicates"
      ]
    },
    {
      "cell_type": "markdown",
      "metadata": {
        "id": "NuwqLEHz2EXW"
      },
      "source": [
        "The presence of duplicates in the dataset can be checked using the `duplicated` function. This function will return True for each repeated row and False otherwise."
      ]
    },
    {
      "cell_type": "code",
      "execution_count": 163,
      "metadata": {
        "id": "aJh2Dehf2Sh3"
      },
      "outputs": [],
      "source": [
        "duplicate = data.duplicated()"
      ]
    },
    {
      "cell_type": "code",
      "execution_count": 164,
      "metadata": {
        "colab": {
          "base_uri": "https://localhost:8080/"
        },
        "id": "VNLHy2xw2nnv",
        "outputId": "c00339d6-5e12-4266-9759-83a9512549d5"
      },
      "outputs": [
        {
          "data": {
            "text/plain": [
              "False    889\n",
              "Name: count, dtype: int64"
            ]
          },
          "execution_count": 164,
          "metadata": {},
          "output_type": "execute_result"
        }
      ],
      "source": [
        "duplicate.value_counts()"
      ]
    },
    {
      "cell_type": "markdown",
      "metadata": {
        "id": "715sG5RD2qKr"
      },
      "source": [
        "As we can see, all values are False, so we can conclude that there are no duplicates."
      ]
    },
    {
      "cell_type": "markdown",
      "metadata": {
        "id": "2qpTJJFdIUX7"
      },
      "source": [
        "## Detecting Outliers"
      ]
    },
    {
      "cell_type": "markdown",
      "metadata": {
        "id": "tDEG4LLUILa8"
      },
      "source": [
        "Detecting outliers involves examining individual attribute values and further analyzing those that seem suspicious or domain-irrelevant. Let's further analyze the `Age` attribute."
      ]
    },
    {
      "cell_type": "markdown",
      "metadata": {
        "id": "2dB3dUpCIjD5"
      },
      "source": [
        "By examining the values of the `Age` attribute using the `describe` function and graphically plotting with the `boxplot` function, we notice that there are some unusually small values and some larger values. These need to be further investigated."
      ]
    },
    {
      "cell_type": "code",
      "execution_count": 165,
      "metadata": {
        "colab": {
          "base_uri": "https://localhost:8080/"
        },
        "id": "Iz2xz2gB-UJZ",
        "outputId": "8a8e677e-d9d6-443e-a50e-039b572ac6d5"
      },
      "outputs": [
        {
          "data": {
            "text/plain": [
              "count    889.000000\n",
              "mean      29.642093\n",
              "std       12.968346\n",
              "min        0.420000\n",
              "25%       22.000000\n",
              "50%       29.642093\n",
              "75%       35.000000\n",
              "max       80.000000\n",
              "Name: Age, dtype: float64"
            ]
          },
          "execution_count": 165,
          "metadata": {},
          "output_type": "execute_result"
        }
      ],
      "source": [
        "data['Age'].describe()"
      ]
    },
    {
      "cell_type": "code",
      "execution_count": 166,
      "metadata": {
        "colab": {
          "base_uri": "https://localhost:8080/",
          "height": 447
        },
        "id": "CXeKzttZImHr",
        "outputId": "fec1b0ae-8001-4874-e912-c8932892869f"
      },
      "outputs": [
        {
          "data": {
            "text/plain": [
              "<Axes: >"
            ]
          },
          "execution_count": 166,
          "metadata": {},
          "output_type": "execute_result"
        },
        {
          "data": {
            "image/png": "[encoded data removed]",
            "text/plain": [
              "<Figure size 640x480 with 1 Axes>"
            ]
          },
          "metadata": {},
          "output_type": "display_data"
        }
      ],
      "source": [
        "data.boxplot(column=['Age'])"
      ]
    },
    {
      "cell_type": "code",
      "execution_count": 167,
      "metadata": {
        "colab": {
          "base_uri": "https://localhost:8080/",
          "height": 269
        },
        "id": "On1LXEP3-h1m",
        "outputId": "466996ab-c37d-4bfd-e33b-5a0adf839164"
      },
      "outputs": [
        {
          "data": {
            "text/html": [
              "<div>\n",
              "<style scoped>\n",
              "    .dataframe tbody tr th:only-of-type {\n",
              "        vertical-align: middle;\n",
              "    }\n",
              "\n",
              "    .dataframe tbody tr th {\n",
              "        vertical-align: top;\n",
              "    }\n",
              "\n",
              "    .dataframe thead th {\n",
              "        text-align: right;\n",
              "    }\n",
              "</style>\n",
              "<table border=\"1\" class=\"dataframe\">\n",
              "  <thead>\n",
              "    <tr style=\"text-align: right;\">\n",
              "      <th></th>\n",
              "      <th>PassengerId</th>\n",
              "      <th>Survived</th>\n",
              "      <th>Pclass</th>\n",
              "      <th>Name</th>\n",
              "      <th>Sex</th>\n",
              "      <th>Age</th>\n",
              "      <th>SibSp</th>\n",
              "      <th>Parch</th>\n",
              "      <th>Ticket</th>\n",
              "      <th>Fare</th>\n",
              "      <th>Embarked</th>\n",
              "    </tr>\n",
              "  </thead>\n",
              "  <tbody>\n",
              "    <tr>\n",
              "      <th>78</th>\n",
              "      <td>79</td>\n",
              "      <td>1</td>\n",
              "      <td>2</td>\n",
              "      <td>Caldwell, Master. Alden Gates</td>\n",
              "      <td>male</td>\n",
              "      <td>0.83</td>\n",
              "      <td>0</td>\n",
              "      <td>2</td>\n",
              "      <td>248738</td>\n",
              "      <td>29.0000</td>\n",
              "      <td>S</td>\n",
              "    </tr>\n",
              "    <tr>\n",
              "      <th>305</th>\n",
              "      <td>306</td>\n",
              "      <td>1</td>\n",
              "      <td>1</td>\n",
              "      <td>Allison, Master. Hudson Trevor</td>\n",
              "      <td>male</td>\n",
              "      <td>0.92</td>\n",
              "      <td>1</td>\n",
              "      <td>2</td>\n",
              "      <td>113781</td>\n",
              "      <td>151.5500</td>\n",
              "      <td>S</td>\n",
              "    </tr>\n",
              "    <tr>\n",
              "      <th>469</th>\n",
              "      <td>470</td>\n",
              "      <td>1</td>\n",
              "      <td>3</td>\n",
              "      <td>Baclini, Miss. Helene Barbara</td>\n",
              "      <td>female</td>\n",
              "      <td>0.75</td>\n",
              "      <td>2</td>\n",
              "      <td>1</td>\n",
              "      <td>2666</td>\n",
              "      <td>19.2583</td>\n",
              "      <td>C</td>\n",
              "    </tr>\n",
              "    <tr>\n",
              "      <th>644</th>\n",
              "      <td>645</td>\n",
              "      <td>1</td>\n",
              "      <td>3</td>\n",
              "      <td>Baclini, Miss. Eugenie</td>\n",
              "      <td>female</td>\n",
              "      <td>0.75</td>\n",
              "      <td>2</td>\n",
              "      <td>1</td>\n",
              "      <td>2666</td>\n",
              "      <td>19.2583</td>\n",
              "      <td>C</td>\n",
              "    </tr>\n",
              "    <tr>\n",
              "      <th>755</th>\n",
              "      <td>756</td>\n",
              "      <td>1</td>\n",
              "      <td>2</td>\n",
              "      <td>Hamalainen, Master. Viljo</td>\n",
              "      <td>male</td>\n",
              "      <td>0.67</td>\n",
              "      <td>1</td>\n",
              "      <td>1</td>\n",
              "      <td>250649</td>\n",
              "      <td>14.5000</td>\n",
              "      <td>S</td>\n",
              "    </tr>\n",
              "    <tr>\n",
              "      <th>803</th>\n",
              "      <td>804</td>\n",
              "      <td>1</td>\n",
              "      <td>3</td>\n",
              "      <td>Thomas, Master. Assad Alexander</td>\n",
              "      <td>male</td>\n",
              "      <td>0.42</td>\n",
              "      <td>0</td>\n",
              "      <td>1</td>\n",
              "      <td>2625</td>\n",
              "      <td>8.5167</td>\n",
              "      <td>C</td>\n",
              "    </tr>\n",
              "    <tr>\n",
              "      <th>831</th>\n",
              "      <td>832</td>\n",
              "      <td>1</td>\n",
              "      <td>2</td>\n",
              "      <td>Richards, Master. George Sibley</td>\n",
              "      <td>male</td>\n",
              "      <td>0.83</td>\n",
              "      <td>1</td>\n",
              "      <td>1</td>\n",
              "      <td>29106</td>\n",
              "      <td>18.7500</td>\n",
              "      <td>S</td>\n",
              "    </tr>\n",
              "  </tbody>\n",
              "</table>\n",
              "</div>"
            ],
            "text/plain": [
              "     PassengerId  Survived  Pclass                             Name     Sex  \\\n",
              "78            79         1       2    Caldwell, Master. Alden Gates    male   \n",
              "305          306         1       1   Allison, Master. Hudson Trevor    male   \n",
              "469          470         1       3    Baclini, Miss. Helene Barbara  female   \n",
              "644          645         1       3           Baclini, Miss. Eugenie  female   \n",
              "755          756         1       2        Hamalainen, Master. Viljo    male   \n",
              "803          804         1       3  Thomas, Master. Assad Alexander    male   \n",
              "831          832         1       2  Richards, Master. George Sibley    male   \n",
              "\n",
              "      Age  SibSp  Parch  Ticket      Fare Embarked  \n",
              "78   0.83      0      2  248738   29.0000        S  \n",
              "305  0.92      1      2  113781  151.5500        S  \n",
              "469  0.75      2      1    2666   19.2583        C  \n",
              "644  0.75      2      1    2666   19.2583        C  \n",
              "755  0.67      1      1  250649   14.5000        S  \n",
              "803  0.42      0      1    2625    8.5167        C  \n",
              "831  0.83      1      1   29106   18.7500        S  "
            ]
          },
          "execution_count": 167,
          "metadata": {},
          "output_type": "execute_result"
        }
      ],
      "source": [
        "data[data['Age']<1]"
      ]
    },
    {
      "cell_type": "markdown",
      "metadata": {
        "id": "QCs5H4pZJtps"
      },
      "source": [
        "It appears that there were children on the ship who were younger than one year old (fortunately, they all survived!). For instances where the passenger identifier is 470 and 645, it seems that all data overlaps except for the name. This might be a potential duplicate or they could be sisters; it is unusual that the ticket number is the same."
      ]
    },
    {
      "cell_type": "code",
      "execution_count": null,
      "metadata": {
        "id": "L_DQAHjo-8Xp"
      },
      "outputs": [],
      "source": []
    },
    {
      "cell_type": "code",
      "execution_count": 168,
      "metadata": {
        "colab": {
          "base_uri": "https://localhost:8080/",
          "height": 206
        },
        "id": "FDzVCbA9-79N",
        "outputId": "bbb0cfec-0bdc-4d67-930b-1872f9f4ff4c"
      },
      "outputs": [
        {
          "data": {
            "text/html": [
              "<div>\n",
              "<style scoped>\n",
              "    .dataframe tbody tr th:only-of-type {\n",
              "        vertical-align: middle;\n",
              "    }\n",
              "\n",
              "    .dataframe tbody tr th {\n",
              "        vertical-align: top;\n",
              "    }\n",
              "\n",
              "    .dataframe thead th {\n",
              "        text-align: right;\n",
              "    }\n",
              "</style>\n",
              "<table border=\"1\" class=\"dataframe\">\n",
              "  <thead>\n",
              "    <tr style=\"text-align: right;\">\n",
              "      <th></th>\n",
              "      <th>PassengerId</th>\n",
              "      <th>Survived</th>\n",
              "      <th>Pclass</th>\n",
              "      <th>Name</th>\n",
              "      <th>Sex</th>\n",
              "      <th>Age</th>\n",
              "      <th>SibSp</th>\n",
              "      <th>Parch</th>\n",
              "      <th>Ticket</th>\n",
              "      <th>Fare</th>\n",
              "      <th>Embarked</th>\n",
              "    </tr>\n",
              "  </thead>\n",
              "  <tbody>\n",
              "    <tr>\n",
              "      <th>96</th>\n",
              "      <td>97</td>\n",
              "      <td>0</td>\n",
              "      <td>1</td>\n",
              "      <td>Goldschmidt, Mr. George B</td>\n",
              "      <td>male</td>\n",
              "      <td>71.0</td>\n",
              "      <td>0</td>\n",
              "      <td>0</td>\n",
              "      <td>PC 17754</td>\n",
              "      <td>34.6542</td>\n",
              "      <td>C</td>\n",
              "    </tr>\n",
              "    <tr>\n",
              "      <th>116</th>\n",
              "      <td>117</td>\n",
              "      <td>0</td>\n",
              "      <td>3</td>\n",
              "      <td>Connors, Mr. Patrick</td>\n",
              "      <td>male</td>\n",
              "      <td>70.5</td>\n",
              "      <td>0</td>\n",
              "      <td>0</td>\n",
              "      <td>370369</td>\n",
              "      <td>7.7500</td>\n",
              "      <td>Q</td>\n",
              "    </tr>\n",
              "    <tr>\n",
              "      <th>493</th>\n",
              "      <td>494</td>\n",
              "      <td>0</td>\n",
              "      <td>1</td>\n",
              "      <td>Artagaveytia, Mr. Ramon</td>\n",
              "      <td>male</td>\n",
              "      <td>71.0</td>\n",
              "      <td>0</td>\n",
              "      <td>0</td>\n",
              "      <td>PC 17609</td>\n",
              "      <td>49.5042</td>\n",
              "      <td>C</td>\n",
              "    </tr>\n",
              "    <tr>\n",
              "      <th>630</th>\n",
              "      <td>631</td>\n",
              "      <td>1</td>\n",
              "      <td>1</td>\n",
              "      <td>Barkworth, Mr. Algernon Henry Wilson</td>\n",
              "      <td>male</td>\n",
              "      <td>80.0</td>\n",
              "      <td>0</td>\n",
              "      <td>0</td>\n",
              "      <td>27042</td>\n",
              "      <td>30.0000</td>\n",
              "      <td>S</td>\n",
              "    </tr>\n",
              "    <tr>\n",
              "      <th>851</th>\n",
              "      <td>852</td>\n",
              "      <td>0</td>\n",
              "      <td>3</td>\n",
              "      <td>Svensson, Mr. Johan</td>\n",
              "      <td>male</td>\n",
              "      <td>74.0</td>\n",
              "      <td>0</td>\n",
              "      <td>0</td>\n",
              "      <td>347060</td>\n",
              "      <td>7.7750</td>\n",
              "      <td>S</td>\n",
              "    </tr>\n",
              "  </tbody>\n",
              "</table>\n",
              "</div>"
            ],
            "text/plain": [
              "     PassengerId  Survived  Pclass                                  Name  \\\n",
              "96            97         0       1             Goldschmidt, Mr. George B   \n",
              "116          117         0       3                  Connors, Mr. Patrick   \n",
              "493          494         0       1               Artagaveytia, Mr. Ramon   \n",
              "630          631         1       1  Barkworth, Mr. Algernon Henry Wilson   \n",
              "851          852         0       3                   Svensson, Mr. Johan   \n",
              "\n",
              "      Sex   Age  SibSp  Parch    Ticket     Fare Embarked  \n",
              "96   male  71.0      0      0  PC 17754  34.6542        C  \n",
              "116  male  70.5      0      0    370369   7.7500        Q  \n",
              "493  male  71.0      0      0  PC 17609  49.5042        C  \n",
              "630  male  80.0      0      0     27042  30.0000        S  \n",
              "851  male  74.0      0      0    347060   7.7750        S  "
            ]
          },
          "execution_count": 168,
          "metadata": {},
          "output_type": "execute_result"
        }
      ],
      "source": [
        "data[data['Age']>70]"
      ]
    },
    {
      "cell_type": "markdown",
      "metadata": {
        "id": "mcmo2zcEJkEc"
      },
      "source": [
        "It seems that among the selected instances where the age is greater than 70, there are no unusual values."
      ]
    },
    {
      "cell_type": "markdown",
      "metadata": {
        "id": "TrIqhxIdKwmd"
      },
      "source": [
        "Similarly, the remaining attributes should be examined further in the same manner."
      ]
    },
    {
      "cell_type": "markdown",
      "metadata": {
        "id": "mpN-_ApFIYou"
      },
      "source": [
        "## Attribute Correlation"
      ]
    },
    {
      "cell_type": "markdown",
      "metadata": {
        "id": "gQRlh7krK2YZ"
      },
      "source": [
        "To evaluate the correlation of attributes in the dataset, we can use the `corr` function. By default, it calculates the Pearson correlation coefficient between each pair of attributes. Before using this function, let's select the attributes whose correlation we want to examine. Let them be `Survived`, `Pclass`, `Sex`, `Age`, `SibSp`, `Parch`, and `Fare`."
      ]
    },
    {
      "cell_type": "code",
      "execution_count": 169,
      "metadata": {
        "colab": {
          "base_uri": "https://localhost:8080/",
          "height": 206
        },
        "id": "6skvjwRlIbOG",
        "outputId": "dd402c4c-0c01-4f1c-cc28-d257c56ab3a4"
      },
      "outputs": [
        {
          "data": {
            "text/html": [
              "<div>\n",
              "<style scoped>\n",
              "    .dataframe tbody tr th:only-of-type {\n",
              "        vertical-align: middle;\n",
              "    }\n",
              "\n",
              "    .dataframe tbody tr th {\n",
              "        vertical-align: top;\n",
              "    }\n",
              "\n",
              "    .dataframe thead th {\n",
              "        text-align: right;\n",
              "    }\n",
              "</style>\n",
              "<table border=\"1\" class=\"dataframe\">\n",
              "  <thead>\n",
              "    <tr style=\"text-align: right;\">\n",
              "      <th></th>\n",
              "      <th>PassengerId</th>\n",
              "      <th>Survived</th>\n",
              "      <th>Pclass</th>\n",
              "      <th>Name</th>\n",
              "      <th>Sex</th>\n",
              "      <th>Age</th>\n",
              "      <th>SibSp</th>\n",
              "      <th>Parch</th>\n",
              "      <th>Ticket</th>\n",
              "      <th>Fare</th>\n",
              "      <th>Embarked</th>\n",
              "    </tr>\n",
              "  </thead>\n",
              "  <tbody>\n",
              "    <tr>\n",
              "      <th>0</th>\n",
              "      <td>1</td>\n",
              "      <td>0</td>\n",
              "      <td>3</td>\n",
              "      <td>Braund, Mr. Owen Harris</td>\n",
              "      <td>male</td>\n",
              "      <td>22.0</td>\n",
              "      <td>1</td>\n",
              "      <td>0</td>\n",
              "      <td>A/5 21171</td>\n",
              "      <td>7.2500</td>\n",
              "      <td>S</td>\n",
              "    </tr>\n",
              "    <tr>\n",
              "      <th>1</th>\n",
              "      <td>2</td>\n",
              "      <td>1</td>\n",
              "      <td>1</td>\n",
              "      <td>Cumings, Mrs. John Bradley (Florence Briggs Th...</td>\n",
              "      <td>female</td>\n",
              "      <td>38.0</td>\n",
              "      <td>1</td>\n",
              "      <td>0</td>\n",
              "      <td>PC 17599</td>\n",
              "      <td>71.2833</td>\n",
              "      <td>C</td>\n",
              "    </tr>\n",
              "    <tr>\n",
              "      <th>2</th>\n",
              "      <td>3</td>\n",
              "      <td>1</td>\n",
              "      <td>3</td>\n",
              "      <td>Heikkinen, Miss. Laina</td>\n",
              "      <td>female</td>\n",
              "      <td>26.0</td>\n",
              "      <td>0</td>\n",
              "      <td>0</td>\n",
              "      <td>STON/O2. 3101282</td>\n",
              "      <td>7.9250</td>\n",
              "      <td>S</td>\n",
              "    </tr>\n",
              "    <tr>\n",
              "      <th>3</th>\n",
              "      <td>4</td>\n",
              "      <td>1</td>\n",
              "      <td>1</td>\n",
              "      <td>Futrelle, Mrs. Jacques Heath (Lily May Peel)</td>\n",
              "      <td>female</td>\n",
              "      <td>35.0</td>\n",
              "      <td>1</td>\n",
              "      <td>0</td>\n",
              "      <td>113803</td>\n",
              "      <td>53.1000</td>\n",
              "      <td>S</td>\n",
              "    </tr>\n",
              "    <tr>\n",
              "      <th>4</th>\n",
              "      <td>5</td>\n",
              "      <td>0</td>\n",
              "      <td>3</td>\n",
              "      <td>Allen, Mr. William Henry</td>\n",
              "      <td>male</td>\n",
              "      <td>35.0</td>\n",
              "      <td>0</td>\n",
              "      <td>0</td>\n",
              "      <td>373450</td>\n",
              "      <td>8.0500</td>\n",
              "      <td>S</td>\n",
              "    </tr>\n",
              "  </tbody>\n",
              "</table>\n",
              "</div>"
            ],
            "text/plain": [
              "   PassengerId  Survived  Pclass  \\\n",
              "0            1         0       3   \n",
              "1            2         1       1   \n",
              "2            3         1       3   \n",
              "3            4         1       1   \n",
              "4            5         0       3   \n",
              "\n",
              "                                                Name     Sex   Age  SibSp  \\\n",
              "0                            Braund, Mr. Owen Harris    male  22.0      1   \n",
              "1  Cumings, Mrs. John Bradley (Florence Briggs Th...  female  38.0      1   \n",
              "2                             Heikkinen, Miss. Laina  female  26.0      0   \n",
              "3       Futrelle, Mrs. Jacques Heath (Lily May Peel)  female  35.0      1   \n",
              "4                           Allen, Mr. William Henry    male  35.0      0   \n",
              "\n",
              "   Parch            Ticket     Fare Embarked  \n",
              "0      0         A/5 21171   7.2500        S  \n",
              "1      0          PC 17599  71.2833        C  \n",
              "2      0  STON/O2. 3101282   7.9250        S  \n",
              "3      0            113803  53.1000        S  \n",
              "4      0            373450   8.0500        S  "
            ]
          },
          "execution_count": 169,
          "metadata": {},
          "output_type": "execute_result"
        }
      ],
      "source": [
        "data.head()"
      ]
    },
    {
      "cell_type": "code",
      "execution_count": 170,
      "metadata": {
        "id": "kE_NKVA620HU"
      },
      "outputs": [],
      "source": [
        "data_restriction = data[['Survived', 'Pclass', 'Sex', 'Age', 'SibSp', 'Parch', 'Fare']].copy()"
      ]
    },
    {
      "cell_type": "markdown",
      "metadata": {
        "id": "a2wLIQGzNTMJ"
      },
      "source": [
        "Since the attribute `Sex` is categorical, we will map the value `male` to 0 and the value `female` to 1. The `map` function will help us with this task."
      ]
    },
    {
      "cell_type": "code",
      "execution_count": 171,
      "metadata": {
        "id": "gSSoNCpk4Gyi"
      },
      "outputs": [],
      "source": [
        "data_restriction['Sex'] = data_restriction['Sex'].map({'male': 0, 'female':1})"
      ]
    },
    {
      "cell_type": "markdown",
      "metadata": {
        "id": "1l8PjvQaNpGi"
      },
      "source": [
        "The `corr` function calculates the correlation coefficient values between attributes."
      ]
    },
    {
      "cell_type": "code",
      "execution_count": 172,
      "metadata": {
        "id": "NyJTma5R5cfC"
      },
      "outputs": [],
      "source": [
        "corelation_matrix = data_restriction.corr()"
      ]
    },
    {
      "cell_type": "code",
      "execution_count": 173,
      "metadata": {
        "colab": {
          "base_uri": "https://localhost:8080/",
          "height": 269
        },
        "id": "uhwD1B-l5ljk",
        "outputId": "4691dc10-59c4-4667-fd6e-5425ac022809"
      },
      "outputs": [
        {
          "data": {
            "text/html": [
              "<div>\n",
              "<style scoped>\n",
              "    .dataframe tbody tr th:only-of-type {\n",
              "        vertical-align: middle;\n",
              "    }\n",
              "\n",
              "    .dataframe tbody tr th {\n",
              "        vertical-align: top;\n",
              "    }\n",
              "\n",
              "    .dataframe thead th {\n",
              "        text-align: right;\n",
              "    }\n",
              "</style>\n",
              "<table border=\"1\" class=\"dataframe\">\n",
              "  <thead>\n",
              "    <tr style=\"text-align: right;\">\n",
              "      <th></th>\n",
              "      <th>Survived</th>\n",
              "      <th>Pclass</th>\n",
              "      <th>Sex</th>\n",
              "      <th>Age</th>\n",
              "      <th>SibSp</th>\n",
              "      <th>Parch</th>\n",
              "      <th>Fare</th>\n",
              "    </tr>\n",
              "  </thead>\n",
              "  <tbody>\n",
              "    <tr>\n",
              "      <th>Survived</th>\n",
              "      <td>1.000000</td>\n",
              "      <td>-0.335549</td>\n",
              "      <td>0.541585</td>\n",
              "      <td>-0.074513</td>\n",
              "      <td>-0.034040</td>\n",
              "      <td>0.083151</td>\n",
              "      <td>0.255290</td>\n",
              "    </tr>\n",
              "    <tr>\n",
              "      <th>Pclass</th>\n",
              "      <td>-0.335549</td>\n",
              "      <td>1.000000</td>\n",
              "      <td>-0.127741</td>\n",
              "      <td>-0.328256</td>\n",
              "      <td>0.081656</td>\n",
              "      <td>0.016824</td>\n",
              "      <td>-0.548193</td>\n",
              "    </tr>\n",
              "    <tr>\n",
              "      <th>Sex</th>\n",
              "      <td>0.541585</td>\n",
              "      <td>-0.127741</td>\n",
              "      <td>1.000000</td>\n",
              "      <td>-0.089339</td>\n",
              "      <td>0.116348</td>\n",
              "      <td>0.247508</td>\n",
              "      <td>0.179958</td>\n",
              "    </tr>\n",
              "    <tr>\n",
              "      <th>Age</th>\n",
              "      <td>-0.074513</td>\n",
              "      <td>-0.328256</td>\n",
              "      <td>-0.089339</td>\n",
              "      <td>1.000000</td>\n",
              "      <td>-0.231908</td>\n",
              "      <td>-0.178013</td>\n",
              "      <td>0.088780</td>\n",
              "    </tr>\n",
              "    <tr>\n",
              "      <th>SibSp</th>\n",
              "      <td>-0.034040</td>\n",
              "      <td>0.081656</td>\n",
              "      <td>0.116348</td>\n",
              "      <td>-0.231908</td>\n",
              "      <td>1.000000</td>\n",
              "      <td>0.414542</td>\n",
              "      <td>0.160887</td>\n",
              "    </tr>\n",
              "    <tr>\n",
              "      <th>Parch</th>\n",
              "      <td>0.083151</td>\n",
              "      <td>0.016824</td>\n",
              "      <td>0.247508</td>\n",
              "      <td>-0.178013</td>\n",
              "      <td>0.414542</td>\n",
              "      <td>1.000000</td>\n",
              "      <td>0.217532</td>\n",
              "    </tr>\n",
              "    <tr>\n",
              "      <th>Fare</th>\n",
              "      <td>0.255290</td>\n",
              "      <td>-0.548193</td>\n",
              "      <td>0.179958</td>\n",
              "      <td>0.088780</td>\n",
              "      <td>0.160887</td>\n",
              "      <td>0.217532</td>\n",
              "      <td>1.000000</td>\n",
              "    </tr>\n",
              "  </tbody>\n",
              "</table>\n",
              "</div>"
            ],
            "text/plain": [
              "          Survived    Pclass       Sex       Age     SibSp     Parch      Fare\n",
              "Survived  1.000000 -0.335549  0.541585 -0.074513 -0.034040  0.083151  0.255290\n",
              "Pclass   -0.335549  1.000000 -0.127741 -0.328256  0.081656  0.016824 -0.548193\n",
              "Sex       0.541585 -0.127741  1.000000 -0.089339  0.116348  0.247508  0.179958\n",
              "Age      -0.074513 -0.328256 -0.089339  1.000000 -0.231908 -0.178013  0.088780\n",
              "SibSp    -0.034040  0.081656  0.116348 -0.231908  1.000000  0.414542  0.160887\n",
              "Parch     0.083151  0.016824  0.247508 -0.178013  0.414542  1.000000  0.217532\n",
              "Fare      0.255290 -0.548193  0.179958  0.088780  0.160887  0.217532  1.000000"
            ]
          },
          "execution_count": 173,
          "metadata": {},
          "output_type": "execute_result"
        }
      ],
      "source": [
        "corelation_matrix"
      ]
    },
    {
      "cell_type": "markdown",
      "metadata": {
        "id": "mX2yYAI1NxEQ"
      },
      "source": [
        "As we discussed, for easier analysis of the obtained values, the correlation matrix is also displayed in the form of a heatmap. The function `show_corelations` enables such a display."
      ]
    },
    {
      "cell_type": "code",
      "execution_count": 174,
      "metadata": {
        "id": "7TgFpRM68NBQ"
      },
      "outputs": [],
      "source": [
        "def show_corelations(cdata):\n",
        "\n",
        "  # calculate the correlation matrix\n",
        "  cor_matrix = cdata.corr()\n",
        "\n",
        "  # prepare axis labels\n",
        "  atributes_number = cdata.columns.shape[0]\n",
        "  plt.xticks(np.arange(0, atributes_number), cdata.columns, rotation=45)\n",
        "  plt.yticks(np.arange(0, atributes_number), cdata.columns)\n",
        "\n",
        "  # prepare the heatmap\n",
        "  plt.imshow(cor_matrix)\n",
        "\n",
        "  # display the color bar with paired colors and values it represents\n",
        "  plt.colorbar()\n",
        "\n",
        "  # display the prepared graph\n",
        "  plt.show()"
      ]
    },
    {
      "cell_type": "code",
      "execution_count": 175,
      "metadata": {
        "colab": {
          "base_uri": "https://localhost:8080/",
          "height": 474
        },
        "id": "8QnPfsvN8emR",
        "outputId": "9a3e56ca-a374-4755-d1d5-60853fc05d75"
      },
      "outputs": [
        {
          "data": {
            "image/png": "[encoded data removed]",
            "text/plain": [
              "<Figure size 640x480 with 2 Axes>"
            ]
          },
          "metadata": {},
          "output_type": "display_data"
        }
      ],
      "source": [
        "show_corelations(data_restriction)"
      ]
    },
    {
      "cell_type": "markdown",
      "metadata": {
        "id": "miMtHH2qPynS"
      },
      "source": [
        "From this matrix, conclusions can be drawn such as that the lower the passenger class, the lower the ticket price (dark purple square at the intersection of the Fare row and Pclass column), that the gender of the passenger positively correlates with the information of whether the passenger survived (it is useful to know that the evacuation of women and children was carried out), and other information."
      ]
    },
    {
      "cell_type": "code",
      "execution_count": null,
      "metadata": {
        "id": "OANEVpKPPNfs"
      },
      "outputs": [],
      "source": []
    }
  ],
  "metadata": {
    "colab": {
      "provenance": []
    },
    "kernelspec": {
      "display_name": "Python 3",
      "name": "python3"
    },
    "language_info": {
      "codemirror_mode": {
        "name": "ipython",
        "version": 3
      },
      "file_extension": ".py",
      "mimetype": "text/x-python",
      "name": "python",
      "nbconvert_exporter": "python",
      "pygments_lexer": "ipython3",
      "version": "3.11.9"
    }
  },
  "nbformat": 4,
  "nbformat_minor": 0
}
