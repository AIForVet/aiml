{
  "cells": [
    {
      "cell_type": "markdown",
      "metadata": {
        "id": "rFmqQPj3NzUW"
      },
      "source": [
        "[![Open In Colab](https://colab.research.google.com/assets/colab-badge.svg)](https://colab.research.google.com/github/AIForVet/aiml/blob/main/02C-data-sets-coco.ipynb)"
      ]
    },
    {
      "cell_type": "markdown",
      "metadata": {},
      "source": [
        "# COCO Dataset"
      ]
    },
    {
      "cell_type": "markdown",
      "metadata": {},
      "source": [
        "Sure! Here's a simple Jupyter Notebook exercise for students using the COCO (Common Objects in Context) dataset. This exercise will help them get familiar with loading and visualizing images and annotations from the dataset.\n",
        "\n"
      ]
    },
    {
      "cell_type": "markdown",
      "metadata": {
        "id": "NIVAvpI0_PXp"
      },
      "source": [
        "## Exercise: Exploring the COCO Dataset"
      ]
    },
    {
      "cell_type": "markdown",
      "metadata": {},
      "source": [
        "### Objective:\n",
        "Load the COCO dataset.\n",
        "Visualize images and their corresponding annotations.\n",
        "\n"
      ]
    },
    {
      "cell_type": "markdown",
      "metadata": {},
      "source": [
        "### Prerequisites:\n",
        "Install the pycocotools library.\n",
        "Download the COCO dataset (e.g., 2017 Train/Val images and annotations)."
      ]
    },
    {
      "cell_type": "markdown",
      "metadata": {
        "id": "i3r2u7W3bbzb"
      },
      "source": [
        "### Step 1: Install Required Libraries\n",
        "\n"
      ]
    },
    {
      "cell_type": "code",
      "execution_count": null,
      "metadata": {},
      "outputs": [],
      "source": [
        "%pip install pycocotools"
      ]
    },
    {
      "cell_type": "markdown",
      "metadata": {},
      "source": [
        "### Step 2: Import Libraries\n",
        "\n"
      ]
    },
    {
      "cell_type": "code",
      "execution_count": null,
      "metadata": {},
      "outputs": [],
      "source": [
        "import numpy as np\n",
        "import matplotlib.pyplot as plt\n",
        "from pycocotools.coco import COCO\n",
        "import requests\n",
        "from PIL import Image\n",
        "from io import BytesIO"
      ]
    },
    {
      "cell_type": "markdown",
      "metadata": {},
      "source": [
        "### Step 3: Load the COCO Dataset"
      ]
    },
    {
      "cell_type": "code",
      "execution_count": null,
      "metadata": {},
      "outputs": [],
      "source": [
        "import os\n",
        "\n",
        "# Path to the COCO annotations file\n",
        "annFile_url = 'https://github.com/AIForVet/aiml/raw/refs/heads/main/annotations/instances_train2017.json'\n",
        "annFile_local = 'instances_train2017.json'\n",
        "\n",
        "# Download the annotations file if it does not exist\n",
        "if not os.path.exists(annFile_local):\n",
        "\tresponse = requests.get(annFile_url)\n",
        "\twith open(annFile_local, 'wb') as f:\n",
        "\t\tf.write(response.content)\n",
        "\n",
        "# Initialize COCO api for instance annotations\n",
        "coco = COCO(annFile_local)"
      ]
    },
    {
      "cell_type": "markdown",
      "metadata": {},
      "source": [
        "### Step 4: Load and Display random Image:\n",
        "\n"
      ]
    },
    {
      "cell_type": "code",
      "execution_count": null,
      "metadata": {},
      "outputs": [],
      "source": [
        "# Get image ids\n",
        "imgIds = coco.getImgIds()\n",
        "\n",
        "# Select a random image\n",
        "img = coco.loadImgs(imgIds[np.random.randint(0, len(imgIds))])[0]\n",
        "\n",
        "# Load and display the image\n",
        "img_url = img['coco_url']\n",
        "response = requests.get(img_url)\n",
        "img_data = Image.open(BytesIO(response.content))\n",
        "plt.imshow(img_data)\n",
        "plt.axis('off')\n",
        "plt.show()"
      ]
    },
    {
      "cell_type": "markdown",
      "metadata": {},
      "source": [
        "### Step 5: Load and Display Annotations\n",
        "\n"
      ]
    },
    {
      "cell_type": "code",
      "execution_count": null,
      "metadata": {},
      "outputs": [],
      "source": [
        "# Load and display annotations\n",
        "annIds = coco.getAnnIds(imgIds=img['id'], iscrowd=False)\n",
        "anns = coco.loadAnns(annIds)\n",
        "\n",
        "# Display annotations\n",
        "plt.imshow(img_data)\n",
        "plt.axis('off')\n",
        "coco.showAnns(anns)\n",
        "# display text for annotations\n",
        "for ann in anns:\n",
        "    bbox = ann['bbox']\n",
        "    plt.text(bbox[0], bbox[1], coco.loadCats(ann['category_id'])[0]['name'], color='red', fontsize=12, weight='bold')\n",
        "plt.show()"
      ]
    },
    {
      "cell_type": "markdown",
      "metadata": {},
      "source": [
        "### Instructions for Students\n",
        "1. Follow the steps to install the required libraries and load the COCO dataset.\n",
        "2. Modify the code to display multiple images and their annotations.\n",
        "3. Explore different categories and visualize images belonging to specific categories.\n",
        "\n"
      ]
    }
  ],
  "metadata": {
    "colab": {
      "provenance": []
    },
    "kernelspec": {
      "display_name": "Python 3",
      "name": "python3"
    },
    "language_info": {
      "codemirror_mode": {
        "name": "ipython",
        "version": 3
      },
      "file_extension": ".py",
      "mimetype": "text/x-python",
      "name": "python",
      "nbconvert_exporter": "python",
      "pygments_lexer": "ipython3",
      "version": "3.11.9"
    }
  },
  "nbformat": 4,
  "nbformat_minor": 0
}
