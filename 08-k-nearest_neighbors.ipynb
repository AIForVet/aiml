{
  "cells": [
    {
      "cell_type": "markdown",
      "metadata": {
        "id": "zLrPIA8VzeS4"
      },
      "source": [
        "# k-Nearest Neighbors Algorithm"
      ]
    },
    {
      "cell_type": "markdown",
      "metadata": {
        "id": "eCYz43qVPHRI"
      },
      "source": [
        "[![Open In Colab](https://colab.research.google.com/assets/colab-badge.svg)](https://colab.research.google.com/github/AIForVet/aiml/blob/main/07-k-nearest_neighbors.ipynb)"
      ]
    },
    {
      "cell_type": "markdown",
      "metadata": {
        "id": "D0k21hmZzjpD"
      },
      "source": [
        "This notebook follows the lesson on the k-Nearest Neighbors algorithm."
      ]
    },
    {
      "cell_type": "markdown",
      "metadata": {
        "id": "qUtbdxoZ3oR5"
      },
      "source": [
        "Execute the cell below and load the libraries that we will need for further work."
      ]
    },
    {
      "cell_type": "code",
      "execution_count": 9,
      "metadata": {
        "id": "-IXAieAI3f7R"
      },
      "outputs": [],
      "source": [
        "import numpy as np\n",
        "from matplotlib import pyplot as plt"
      ]
    },
    {
      "cell_type": "markdown",
      "metadata": {
        "id": "SNIJoJ4ZDrIE"
      },
      "source": [
        "First, we will process the data. The variable `instance` represents all instances in the dataset. The first row lists the blue instances, and the second row lists the red ones. The green instance that needs to be classified is also specified separately."
      ]
    },
    {
      "cell_type": "code",
      "execution_count": 10,
      "metadata": {
        "id": "fkraZvCAEYQm"
      },
      "outputs": [],
      "source": [
        "instances = [\n",
        "        (-0.25, 0, 1), (-2.5, 2, 1), (-1.5, 1.5, 1), (-2.5, 0.5, 1), (-2.5, 2, 1), (-2.5, 4, 1), (0.5, 3, 1), # plave\n",
        "        (-1.5, 3.5, 0), (1, 3.5, 0), (3, 3, 0), (0.5, 0.25, 0), (0.75, -0.5, 0) #crvene\n",
        "  ]\n",
        "\n",
        "green_instance = (0, 0)"
      ]
    },
    {
      "cell_type": "markdown",
      "metadata": {
        "id": "1x3v29jnFEUi"
      },
      "source": [
        "The following function will help us display the neighborhood of the green instance determined by the choice of the number `k`."
      ]
    },
    {
      "cell_type": "code",
      "execution_count": 11,
      "metadata": {
        "id": "9L8c8Zsb0D0L"
      },
      "outputs": [],
      "source": [
        "def show_neighborhood(k, instances=instances, green_instance=green_instance):\n",
        "\n",
        "  # set up the plot panel\n",
        "  fig, ax = plt.subplots()\n",
        "  ax.set_aspect(1)\n",
        "  ax.set_axis_off()\n",
        "  fig.set_size_inches(5, 5)\n",
        "\n",
        "  # display instances\n",
        "  for instance in instances:\n",
        "    # determine color and shape for each instance\n",
        "    color = 'red' if instance[2] == 0 else 'blue'\n",
        "    shape = '^' if instance[2] == 0 else 's'\n",
        "    ax.scatter(instance[0], instance[1], color=color, marker=shape)\n",
        "\n",
        "  # display the green instance\n",
        "  ax.scatter(green_instance[0], green_instance[1], color='green')\n",
        "\n",
        "  # calculate the distance from the green instance to all instances in the set\n",
        "  distances = np.array([np.sqrt(instance[0]**2 + instance[1]**2) for instance in instances])\n",
        "\n",
        "  # determine the k-th distance\n",
        "  k_distance = np.sort(distances)[k-1]\n",
        "\n",
        "  # draw a circle around the green instance with a radius corresponding to the observed distance\n",
        "  r = k_distance + 0.05\n",
        "  circle = plt.Circle((green_instance[0], green_instance[1]), r, color='gray', linestyle='--', fill=False)\n",
        "  ax.add_patch(circle)\n",
        "\n",
        "  # finally, display the neighborhood\n",
        "  plt.show()"
      ]
    },
    {
      "cell_type": "markdown",
      "metadata": {
        "id": "Z3_3_Dk6FjZO"
      },
      "source": [
        "Now you can choose the value of k by moving the slider, then plot the neighborhood and decide which class the green instance belongs to. To plot the neighborhood, you need to execute the cell."
      ]
    },
    {
      "cell_type": "code",
      "execution_count": 12,
      "metadata": {
        "colab": {
          "base_uri": "https://localhost:8080/",
          "height": 385
        },
        "id": "rqsZwV7CFxd5",
        "outputId": "afb3add6-b467-4e4e-d323-f087002bacd1"
      },
      "outputs": [
        {
          "data": {
            "image/png": "[encoded data removed]",
            "text/plain": [
              "<Figure size 500x500 with 1 Axes>"
            ]
          },
          "metadata": {},
          "output_type": "display_data"
        }
      ],
      "source": [
        "k = 3 # @param {type:\"slider\", min:1, max:12, step:1}\n",
        "show_neighborhood(k)"
      ]
    },
    {
      "cell_type": "markdown",
      "metadata": {
        "id": "0eE45L3zIdlb"
      },
      "source": [
        "The following cell contains a function that classifies a new instance based on the given instances using the k-nearest neighbors algorithm. After considering which class the instance belongs to, you can check your conclusion by executing this function."
      ]
    },
    {
      "cell_type": "code",
      "execution_count": 13,
      "metadata": {
        "id": "OkKBe-SAI2tM"
      },
      "outputs": [],
      "source": [
        "def euclidean_distance(instance1, instance2):\n",
        "  return np.sqrt((instance1[0]-instance2[0])**2 + (instance1[1]-instance2[1])**2)"
      ]
    },
    {
      "cell_type": "code",
      "execution_count": 14,
      "metadata": {
        "id": "6qdERfgoIWB1"
      },
      "outputs": [],
      "source": [
        "def kNN(k, instances, new_instance, classes={0: 'red', 1: 'blue'}):\n",
        "\n",
        "  # first, calculate the distances between the new instance and all instances in the dataset\n",
        "  distances = [euclidean_distance(instance, new_instance) for instance in instances]\n",
        "\n",
        "  # then sort the distances, extract the k smallest ones and the corresponding instances\n",
        "  # declare them as neighbors\n",
        "  neighbors = np.argsort(distances)[0:k]\n",
        "\n",
        "  # then read the labels of the neighbors and count them\n",
        "  neighbor_labels = [instances[neighbor][2] for neighbor in neighbors]\n",
        "  label_counts = np.bincount(neighbor_labels)\n",
        "\n",
        "  # the label of the new instance will be the label of the most frequent neighbor\n",
        "  label = np.argmax(label_counts)\n",
        "\n",
        "  return classes[label]"
      ]
    },
    {
      "cell_type": "code",
      "execution_count": 15,
      "metadata": {
        "colab": {
          "base_uri": "https://localhost:8080/",
          "height": 35
        },
        "id": "NTyfdogxJVPJ",
        "outputId": "635dfd71-0fbe-4b2c-c486-8108d974cecb"
      },
      "outputs": [
        {
          "data": {
            "text/plain": [
              "'red'"
            ]
          },
          "execution_count": 15,
          "metadata": {},
          "output_type": "execute_result"
        }
      ],
      "source": [
        "kNN(3, instances, green_instance)"
      ]
    },
    {
      "cell_type": "code",
      "execution_count": null,
      "metadata": {
        "id": "9x3hC876OXfY"
      },
      "outputs": [],
      "source": []
    }
  ],
  "metadata": {
    "colab": {
      "provenance": []
    },
    "kernelspec": {
      "display_name": "Python 3",
      "name": "python3"
    },
    "language_info": {
      "codemirror_mode": {
        "name": "ipython",
        "version": 3
      },
      "file_extension": ".py",
      "mimetype": "text/x-python",
      "name": "python",
      "nbconvert_exporter": "python",
      "pygments_lexer": "ipython3",
      "version": "3.11.9"
    }
  },
  "nbformat": 4,
  "nbformat_minor": 0
}
