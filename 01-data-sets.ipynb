{
  "cells": [
    {
      "cell_type": "markdown",
      "metadata": {
        "id": "rFmqQPj3NzUW"
      },
      "source": [
        "[![Open In Colab](https://colab.research.google.com/assets/colab-badge.svg)](https://colab.research.google.com/github/AIForVet/aiml/blob/main/01-data-sets.ipynb)"
      ]
    },
    {
      "cell_type": "markdown",
      "metadata": {},
      "source": [
        "# MNIST Dataset"
      ]
    },
    {
      "cell_type": "markdown",
      "metadata": {},
      "source": [
        "The MINST dataset stands for \"Modified National Institute of Standards and Technology\". The dataset contains a large collection of handwritten digits that is commonly used for training various image processing systems. The dataset was created by re-mixing samples from NIST's original datasets, which were taken from American Census Bureau employees and high school students. It is designed to help scientists develop and test machine learning algorithms in pattern recognition and machine learning. It contains 60,000 training images and 10,000 testing images, each of which is a grayscale image of size 28x28 pixels.\n",
        "\n"
      ]
    },
    {
      "cell_type": "markdown",
      "metadata": {
        "id": "NIVAvpI0_PXp"
      },
      "source": [
        "## Loading MNIST dataset using TensorFlow/Keras"
      ]
    },
    {
      "cell_type": "markdown",
      "metadata": {
        "id": "i3r2u7W3bbzb"
      },
      "source": [
        "This code snippet load mnist dataset keras example using Keras, retrieves the training images and labels, and then plots four images in a row with their corresponding labels. Each image is displayed in grayscale."
      ]
    },
    {
      "cell_type": "code",
      "execution_count": 1,
      "metadata": {
        "id": "kvi0GlIAb2o7"
      },
      "outputs": [
        {
          "data": {
            "image/png": "[encoded data removed]",
            "text/plain": [
              "<Figure size 1000x500 with 4 Axes>"
            ]
          },
          "metadata": {},
          "output_type": "display_data"
        }
      ],
      "source": [
        "from tensorflow.keras.datasets import mnist\n",
        "import matplotlib.pyplot as plt\n",
        "import numpy as np\n",
        "\n",
        "# Load the MNIST dataset\n",
        "(X_train, y_train), (_, _) = mnist.load_data()\n",
        "# Print 4 images in a row\n",
        "plt.figure(figsize=(10, 5))\n",
        "for i in range(4):\n",
        "    plt.subplot(1, 4, i+1)\n",
        "    plt.imshow(X_train[i], cmap='gray')\n",
        "    plt.title(f\"Label: {y_train[i]}\")\n",
        "    plt.axis('off')\n",
        "plt.tight_layout()\n",
        "plt.show()"
      ]
    },
    {
      "cell_type": "markdown",
      "metadata": {
        "id": "le83fSkQAaPn"
      },
      "source": [
        "## Loading MNIST dataset Using PyTorch"
      ]
    },
    {
      "cell_type": "markdown",
      "metadata": {},
      "source": [
        "In this examples we will explore to load mnist dataset pytorch example. PyTorch offers a similar utility through torchvision.datasets, which is very convenient, especially when combined with torchvision.transforms to perform basic preprocessing like converting images to tensor format."
      ]
    },
    {
      "cell_type": "code",
      "execution_count": 2,
      "metadata": {
        "id": "MxEDPDoobWcJ"
      },
      "outputs": [
        {
          "data": {
            "image/png": "[encoded data removed]",
            "text/plain": [
              "<Figure size 1500x300 with 5 Axes>"
            ]
          },
          "metadata": {},
          "output_type": "display_data"
        }
      ],
      "source": [
        "import matplotlib.pyplot as plt\n",
        "import torch\n",
        "from torchvision import datasets, transforms\n",
        "# Define the transformation to convert images to PyTorch tensors\n",
        "transform = transforms.Compose([transforms.ToTensor()])\n",
        "# Load the MNIST dataset with the specified transformation\n",
        "mnist_pytorch = datasets.MNIST(root='./data', train=True, download=True, transform=transform)\n",
        "# Create a DataLoader to load the dataset in batches\n",
        "train_loader_pytorch = torch.utils.data.DataLoader(mnist_pytorch, batch_size=1, shuffle=False)\n",
        "# Create a figure to display the images\n",
        "plt.figure(figsize=(15, 3))\n",
        "# Print the first few images in a row\n",
        "for i, (image, label) in enumerate(train_loader_pytorch):\n",
        "    if i < 5:  # Print the first 5 samples\n",
        "        plt.subplot(1, 5, i + 1)\n",
        "        plt.imshow(image[0].squeeze(), cmap='gray')\n",
        "        plt.title(f\"Label: {label.item()}\")\n",
        "        plt.axis('off')\n",
        "    else:\n",
        "        break  # Exit the loop after printing 5 samples\n",
        "plt.tight_layout()\n",
        "plt.show()"
      ]
    },
    {
      "cell_type": "markdown",
      "metadata": {},
      "source": [
        "# ImageNet"
      ]
    },
    {
      "cell_type": "markdown",
      "metadata": {},
      "source": [
        "The ImageNet project is a large visual database for visual object recognition software research. The idea for this project was conceived over 15 years ago by AI researcher Fei-Fei Li. The ImageNet team presented their dataset for the first time in 2009."
      ]
    },
    {
      "cell_type": "markdown",
      "metadata": {},
      "source": [
        "## Image Recognition in Python Using Tensorflow and Keras"
      ]
    },
    {
      "cell_type": "markdown",
      "metadata": {},
      "source": [
        "Keras comes bundled with many pre-trained classification models. As of Keras version 2.11, there are 19 different pre-trained models available, where some versions contain many variants as well. The list of models can be found here. Here we will use the following pre-trained models to make predictions on several sample test images. \n",
        "- VGG16\n",
        "- ResNet50\n",
        "- InceptionV3\n",
        "AI Image Recognition is the process of using artificial intelligence to identify and categorize objects within an image, a task that, while intuitive for humans, is complex for machines due to the significant processing power required. "
      ]
    },
    {
      "cell_type": "markdown",
      "metadata": {},
      "source": [
        "Step 1 – Install and Import Necessary Packages"
      ]
    },
    {
      "cell_type": "markdown",
      "metadata": {},
      "source": [
        "Instantiate the Model. Here we will use the ResNet50"
      ]
    },
    {
      "cell_type": "code",
      "execution_count": 3,
      "metadata": {},
      "outputs": [],
      "source": [
        "#%pip install numpy keras tensorflow matplotlib opencv-python\n",
        "import numpy as np \n",
        "import matplotlib.pyplot as plt \n",
        "import os \n",
        "import cv2 \n",
        "from keras.applications.resnet50 import ResNet50 \n",
        "from keras.preprocessing import image \n",
        "from keras.applications.resnet50 import preprocess_input, decode_predictions"
      ]
    },
    {
      "cell_type": "markdown",
      "metadata": {},
      "source": [
        "Then, we’ll load the pre-trained ResNet50 model:"
      ]
    },
    {
      "cell_type": "code",
      "execution_count": 4,
      "metadata": {},
      "outputs": [],
      "source": [
        "model = ResNet50(weights='imagenet')"
      ]
    },
    {
      "cell_type": "markdown",
      "metadata": {},
      "source": [
        "Step 2 – Load and Pre-process the Image Using OpenCV"
      ]
    },
    {
      "cell_type": "code",
      "execution_count": 8,
      "metadata": {},
      "outputs": [],
      "source": [
        "import requests\n",
        "from io import BytesIO\n",
        "\n",
        "img_url = \"https://cdn.pixabay.com/photo/2015/01/26/22/40/child-613199_1280.jpg\"  # The image to classify\n",
        "response = requests.get(img_url)\n",
        "img = None\n",
        "\n",
        "if response.status_code == 200:\n",
        "\timg_array = np.array(bytearray(response.content), dtype=np.uint8)\n",
        "\timg = cv2.imdecode(img_array, cv2.IMREAD_COLOR)  # Load the image using OpenCV\n",
        "\n",
        "if img is not None:\n",
        "\timg = cv2.resize(img, (224, 224))  # Resize the image to match the model's input size\n",
        "\tx = image.img_to_array(img)  # Convert the image to a numpy array\n",
        "\tx = np.expand_dims(x, axis=0)  # Add a batch dimension\n",
        "\tx = preprocess_input(x)\n",
        "else:\n",
        "\tprint(\"Error: Image not found or unable to load.\")\n"
      ]
    },
    {
      "cell_type": "markdown",
      "metadata": {},
      "source": [
        "Step 3 – Make Predictions Using ResNet50.\n",
        " Next, we’ll use the pre-trained ResNet50 model to make predictions on the input image"
      ]
    },
    {
      "cell_type": "code",
      "execution_count": 9,
      "metadata": {},
      "outputs": [
        {
          "name": "stdout",
          "output_type": "stream",
          "text": [
            "\u001b[1m1/1\u001b[0m \u001b[32m━━━━━━━━━━━━━━━━━━━━\u001b[0m\u001b[37m\u001b[0m \u001b[1m2s\u001b[0m 2s/step\n",
            "Predicted: [('n04254680', 'soccer_ball', np.float32(0.40723988)), ('n02799071', 'baseball', np.float32(0.24475683)), ('n09835506', 'ballplayer', np.float32(0.10620337))]\n"
          ]
        }
      ],
      "source": [
        "# Make predictions\n",
        "preds = model.predict(x)\n",
        "\n",
        "# Decode and display predictions\n",
        "print('Predicted:', decode_predictions(preds, top=3)[0])"
      ]
    }
  ],
  "metadata": {
    "colab": {
      "provenance": []
    },
    "kernelspec": {
      "display_name": "Python 3",
      "name": "python3"
    },
    "language_info": {
      "codemirror_mode": {
        "name": "ipython",
        "version": 3
      },
      "file_extension": ".py",
      "mimetype": "text/x-python",
      "name": "python",
      "nbconvert_exporter": "python",
      "pygments_lexer": "ipython3",
      "version": "3.11.9"
    }
  },
  "nbformat": 4,
  "nbformat_minor": 0
}
