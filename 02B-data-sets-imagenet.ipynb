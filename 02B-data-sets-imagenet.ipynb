{
  "cells": [
    {
      "cell_type": "markdown",
      "metadata": {
        "id": "rFmqQPj3NzUW"
      },
      "source": [
        "[![Open In Colab](https://colab.research.google.com/assets/colab-badge.svg)](https://colab.research.google.com/github/AIForVet/aiml/blob/main/02B-data-sets-imagenet.ipynb)"
      ]
    },
    {
      "cell_type": "markdown",
      "metadata": {},
      "source": [
        "# ImageNet Dataset"
      ]
    },
    {
      "cell_type": "markdown",
      "metadata": {},
      "source": [
        "The ImageNet project is a large visual database for visual object recognition software research. The idea for this project was conceived over 15 years ago by AI researcher Fei-Fei Li. The ImageNet team presented their dataset for the first time in 2009."
      ]
    },
    {
      "cell_type": "markdown",
      "metadata": {},
      "source": [
        "Keras comes bundled with many pre-trained classification models. As of Keras version 2.11, there are 19 different pre-trained models available, where some versions contain many variants as well. The list of models can be found here. Here we will use the following pre-trained models to make predictions on several sample test images. \n",
        "- VGG16\n",
        "- ResNet50\n",
        "- InceptionV3\n",
        "AI Image Recognition is the process of using artificial intelligence to identify and categorize objects within an image, a task that, while intuitive for humans, is complex for machines due to the significant processing power required. "
      ]
    },
    {
      "cell_type": "markdown",
      "metadata": {},
      "source": [
        "Here's a simple Jupyter Notebook exercise for students to perform image classification using a pre-trained model on the ImageNet dataset. This exercise will guide them through loading a pre-trained model, making predictions, and visualizing the results.\n"
      ]
    },
    {
      "cell_type": "markdown",
      "metadata": {
        "id": "NIVAvpI0_PXp"
      },
      "source": [
        "## Exercise: Image Classification with ImageNet"
      ]
    },
    {
      "cell_type": "markdown",
      "metadata": {
        "id": "i3r2u7W3bbzb"
      },
      "source": [
        "### Step 1: Setup\n",
        "First, ensure you have the necessary libraries installed. You can install them using pip if you haven't already:\n"
      ]
    },
    {
      "cell_type": "code",
      "execution_count": null,
      "metadata": {
        "id": "kvi0GlIAb2o7"
      },
      "outputs": [],
      "source": [
        "%pip install torch torchvision matplotlib"
      ]
    },
    {
      "cell_type": "markdown",
      "metadata": {
        "id": "le83fSkQAaPn"
      },
      "source": [
        "### Step 2: Import Libraries"
      ]
    },
    {
      "cell_type": "markdown",
      "metadata": {},
      "source": [
        "Import the required libraries for the exercise:\n",
        "\n"
      ]
    },
    {
      "cell_type": "code",
      "execution_count": null,
      "metadata": {
        "id": "MxEDPDoobWcJ"
      },
      "outputs": [],
      "source": [
        "import torch\n",
        "import torchvision.transforms as transforms\n",
        "from torchvision import models\n",
        "from PIL import Image\n",
        "import matplotlib.pyplot as plt\n",
        "import json"
      ]
    },
    {
      "cell_type": "markdown",
      "metadata": {},
      "source": [
        "### Step 3: Load Pre-trained Model\n",
        "Load a pre-trained model (e.g., ResNet-18) and set it to evaluation mode:\n",
        "\n"
      ]
    },
    {
      "cell_type": "code",
      "execution_count": null,
      "metadata": {},
      "outputs": [],
      "source": [
        "import ssl\n",
        "ssl._create_default_https_context = ssl._create_unverified_context\n",
        "\n",
        "model = models.resnet18(pretrained=True)\n",
        "model.eval()"
      ]
    },
    {
      "cell_type": "markdown",
      "metadata": {},
      "source": [
        "### Step 4: Load and Preprocess Image\n",
        "Load an image and apply the necessary transformations:"
      ]
    },
    {
      "cell_type": "code",
      "execution_count": null,
      "metadata": {},
      "outputs": [],
      "source": [
        "def preprocess_image(image_path):\n",
        "    input_image = Image.open(image_path)\n",
        "    preprocess = transforms.Compose([\n",
        "        transforms.Resize(256),\n",
        "        transforms.CenterCrop(224),\n",
        "        transforms.ToTensor(),\n",
        "        transforms.Normalize(mean=[0.485, 0.456, 0.406], std=[0.229, 0.224, 0.225]),\n",
        "    ])\n",
        "    input_tensor = preprocess(input_image)\n",
        "    input_batch = input_tensor.unsqueeze(0)\n",
        "    return input_batch\n",
        "\n",
        "import urllib.request\n",
        "\n",
        "# Download a sample image\n",
        "image_url = 'https://github.com/AIForVet/aiml/blob/main/images/zuca.jpg?raw=true'  # Replace with a valid image URL\n",
        "image_path = 'zuca.jpg'\n",
        "urllib.request.urlretrieve(image_url, image_path)\n",
        "\n",
        "input_batch = preprocess_image(image_path)"
      ]
    },
    {
      "cell_type": "markdown",
      "metadata": {},
      "source": [
        "### Step 5: Make Predictions\n",
        "Pass the preprocessed image through the model to get predictions:\n"
      ]
    },
    {
      "cell_type": "code",
      "execution_count": null,
      "metadata": {},
      "outputs": [],
      "source": [
        "with torch.no_grad():\n",
        "    output = model(input_batch)\n"
      ]
    },
    {
      "cell_type": "markdown",
      "metadata": {},
      "source": [
        "### Step 6: Decode Predictions\n",
        "Download the ImageNet class labels and decode the predictions:\n",
        "\n"
      ]
    },
    {
      "cell_type": "code",
      "execution_count": null,
      "metadata": {},
      "outputs": [],
      "source": [
        "import urllib.request\n",
        "\n",
        "# Download the labels file\n",
        "labels_url = 'https://raw.githubusercontent.com/anishathalye/imagenet-simple-labels/master/imagenet-simple-labels.json'\n",
        "labels_path = 'imagenet-simple-labels.json'\n",
        "urllib.request.urlretrieve(labels_url, labels_path)\n",
        "\n",
        "# Load the labels\n",
        "with open(labels_path) as f:\n",
        "    labels = json.load(f)\n",
        "\n",
        "# Get the predicted label\n",
        "_, predicted_idx = torch.max(output, 1)\n",
        "predicted_label = labels[predicted_idx.item()]\n",
        "\n",
        "print(f'Predicted label: {predicted_label}')"
      ]
    },
    {
      "cell_type": "markdown",
      "metadata": {},
      "source": [
        "Step 7: Visualize the Image and Prediction\n",
        "Display the image along with the predicted label:\n",
        "\n"
      ]
    },
    {
      "cell_type": "code",
      "execution_count": null,
      "metadata": {},
      "outputs": [],
      "source": [
        "def show_image(image_path, label):\n",
        "    image = Image.open(image_path)\n",
        "    plt.imshow(image)\n",
        "    plt.title(f'Predicted: {label}')\n",
        "    plt.axis('off')\n",
        "    plt.show()\n",
        "\n",
        "show_image(image_path, predicted_label)"
      ]
    },
    {
      "cell_type": "markdown",
      "metadata": {},
      "source": [
        "### Instructions for Students\n",
        "1. Follow the steps in the notebook to load and preprocess an image.\n",
        "2. Use the pre-trained ResNet-18 model to make predictions.\n",
        "3. Decode the predictions and display the image with the predicted label.\n",
        "4. Experiment with different images and observe the model's performance.\n",
        "\n",
        "\n"
      ]
    },
    {
      "cell_type": "code",
      "execution_count": null,
      "metadata": {},
      "outputs": [],
      "source": []
    }
  ],
  "metadata": {
    "colab": {
      "provenance": []
    },
    "kernelspec": {
      "display_name": "Python 3",
      "name": "python3"
    },
    "language_info": {
      "codemirror_mode": {
        "name": "ipython",
        "version": 3
      },
      "file_extension": ".py",
      "mimetype": "text/x-python",
      "name": "python",
      "nbconvert_exporter": "python",
      "pygments_lexer": "ipython3",
      "version": "3.11.9"
    }
  },
  "nbformat": 4,
  "nbformat_minor": 0
}
